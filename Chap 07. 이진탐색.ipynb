{
 "cells": [
  {
   "cell_type": "markdown",
   "metadata": {},
   "source": [
    "# Chap 07. 이진탐색"
   ]
  },
  {
   "cell_type": "markdown",
   "metadata": {},
   "source": [
    "### <<<들어가기 전에 </n>\n",
    "\n",
    "### 카드 정렬하기 문제"
   ]
  },
  {
   "cell_type": "code",
   "execution_count": 8,
   "metadata": {},
   "outputs": [
    {
     "name": "stdout",
     "output_type": "stream",
     "text": [
      "4\n",
      "10\n",
      "20\n",
      "40\n",
      "50\n",
      "220\n"
     ]
    }
   ],
   "source": [
    "## 내 코드\n",
    "N=int(input())\n",
    "num_list=[]\n",
    "for i in range(N):\n",
    "    num=int(input())\n",
    "    num_list.append(num)\n",
    "num_list.sort()\n",
    "#print(num_list)\n",
    "plus_list=[]\n",
    "\n",
    "if N <= 2:\n",
    "   print(sum(num_list))\n",
    "elif N > 2:\n",
    "    plus_list.append((num_list[0]+num_list[1])*(N-1)) #10+20은 N-1번 더해진다\n",
    "    for j in range(2, N):\n",
    "        plus_list.append(num_list[j]*(N-j))\n",
    "        #2번 인덱스 부터(여기선 40과 50)는 N-j번 더해진다, 40은 2번, 50은 1번 더해진다\n",
    "print(sum(plus_list))\n",
    "\n",
    "#구현 예시\n",
    "#3(10,20,40)\n",
    "#(10+20)+(10+20+40)=100\n",
    "\n",
    "#4(10,20,40,50)인 경우\n",
    "#(10+20)+(10+20+40)+(10+20+40+50)=220-> 최솟값이 아님\n",
    "#(10+20)+(40+50)+(30+90)=240\n",
    "\n",
    "#10 30 70 80\n",
    "#(10+30)+(10+30+70)+(10+30+70+80)\n",
    "#(10+30)+(30+70)+(10+30+70+80)\n",
    "\n",
    "#5(10,20,30,40,50)\n",
    "#(10+20)+(10+20+30)+(10+20+30+40)+(10+20+30+40+50)=340\n",
    "#(10+20)+(10+20+30)+(40+50)+(10+20+30+40+50)=330\n",
    "#(10+20)+(30+40)+(30+70+50)= 250 이게 최소라서 틀렸다고 나오는거\n",
    "#따라서, heapque자료형을 이용해 모든 경우의 수를 탐색한다"
   ]
  },
  {
   "cell_type": "code",
   "execution_count": null,
   "metadata": {},
   "outputs": [],
   "source": [
    "import heapq\n",
    "\n",
    "n = int(input())\n",
    "\n",
    "# 힙(Heap)에 초기 카드 묶음을 모두 삽입\n",
    "heap = []\n",
    "for i in range(n):\n",
    "    data = int(input())\n",
    "    heapq.heappush(heap, data)\n",
    "\n",
    "result = 0\n",
    "\n",
    "# 힙(Heap)에 원소가 1개 남을 때까지\n",
    "while len(heap) != 1:\n",
    "    # 가장 작은 2개의 카드 묶음 꺼내기\n",
    "    one = heapq.heappop(heap)\n",
    "    two = heapq.heappop(heap)\n",
    "    # 카드 묶음을 합쳐서 다시 삽입\n",
    "    sum_value = one + two\n",
    "    result += sum_value\n",
    "    heapq.heappush(heap, sum_value)\n",
    "\n",
    "print(result)\n",
    "\n",
    "#힙 자료구조 참고자료\n",
    "\n",
    "#https://gmlwjd9405.github.io/2018/05/10/data-structure-heap.html"
   ]
  },
  {
   "cell_type": "markdown",
   "metadata": {},
   "source": [
    "## 1. 순차탐색\n",
    "- 리스트 안에 있는 특정한 데이터를 찾기 위해 앞에서부터 데이터를 하나씩 제대로 확인하는 방법이다.\n",
    "- 예) 3장. 거스름돈 문제에서 가장 큰 화폐단위부터 탐색해서 각 단위에 대해 처리한 것\n",
    "- 리스트의 데이터에 하나씩 방문하며 특정한 문자열과 같은지 검사하기 때문에 구현이 간단하다.\n",
    "<img src=\"https://img1.daumcdn.net/thumb/R720x0.q80/?scode=mtistory2&fname=http%3A%2F%2Fcfile10.uf.tistory.com%2Fimage%2F272E3C4853FDCD4D33CBA6\" align='left'>"
   ]
  },
  {
   "cell_type": "code",
   "execution_count": 1,
   "metadata": {},
   "outputs": [
    {
     "name": "stdout",
     "output_type": "stream",
     "text": [
      "생성할 원소 개수를 입력한 다음 한 칸 띄고 찾을 문자열을 입력하세요.\n",
      "5 Dongbin\n",
      "앞서 적은 원소 개수만큼 문자열을 입력하세요. 구분은 띄어쓰기 한 칸으로 합니다.\n",
      "Hanul Jonggu Dongbin Taeil Sangwook\n",
      "3\n"
     ]
    }
   ],
   "source": [
    "# 순차 탐색 소스코드 구현\n",
    "def sequential_search(n, target, array):\n",
    "    # 각 원소를 하나씩 확인하며\n",
    "    for i in range(n):\n",
    "        # 현재의 원소가 찾고자 하는 원소와 동일한 경우\n",
    "        if array[i] == target:\n",
    "            return i + 1 # 현재의 위치 반환 (인덱스는 0부터 시작하므로 1 더하기)\n",
    "    return -1 # 원소를 찾지 못한 경우 -1 반환\n",
    "\n",
    "print(\"생성할 원소 개수를 입력한 다음 한 칸 띄고 찾을 문자열을 입력하세요.\")\n",
    "input_data = input().split()\n",
    "n = int(input_data[0]) # 원소의 개수\n",
    "target = input_data[1] # 찾고자 하는 문자열\n",
    "\n",
    "print(\"앞서 적은 원소 개수만큼 문자열을 입력하세요. 구분은 띄어쓰기 한 칸으로 합니다.\")  \n",
    "array = input().split()\n",
    "\n",
    "# 순차 탐색 수행 결과 출력\n",
    "print(sequential_search(n, target, array))"
   ]
  },
  {
   "cell_type": "markdown",
   "metadata": {},
   "source": [
    "- 데이터 정렬여부와 관계 없이 이름 문자열이 몇 번째 데이터인지 출력한다.\n",
    "- 데이터의 개수가 N개 일때 <b>최대 N번</b>의 비교 연산이 필요하므로 시간복잡도는 <b>O(N)</b>이다"
   ]
  },
  {
   "cell_type": "markdown",
   "metadata": {},
   "source": [
    "## 2. 이진탐색: 반으로 쪼개면서 탐색하기\n",
    "- 배열 내부의 데이터가 정렬되어 있어야만 사용할 수 있음\n",
    "- 탐색범위를 절반씩 좁혀가며 데이터를 탐색하는 알고리즘이다\n",
    "- 위치를 나타내는 변수 3개 설정: <b>시작점, 끝점, 중간점</b>\n",
    "- 찾으려는 데이터와 중간점 위치에 있는 데이터를 반복적으로 비교해서 원하는 데이터를 찾는 탐색과정\n",
    "\n",
    "##### 이진탐색과정 예시(34를 찾는 방법)\n",
    "<img src=\"https://media.vlpt.us/images/crystalhwang16/post/5883c5ad-4bad-4a49-87bf-ca7d6e118da6/1_Jpuusq4TI4KTpeZdXsyxzQ.png\">\n",
    "\n",
    "##### 순차탐색과 이진탐색과의 비교(37을 탐색하는 방법)\n",
    "<img src=\"https://media.vlpt.us/images/hyundong_kk/post/4812c37a-5abb-4c93-a1e6-2bec929c4972/binary-and-linear-search-animations.gif\">\n",
    "\n",
    "- 총 16개의 수에서 순차탐색은 11번, 이진탐색은 3번의 탐색으로 target인 37을 찾아낼 수 있었음\n",
    "- 한번 탐색을 할 때마다 원소의 개수가 절반씩 줄어들기 때문에 시간 복잡도는 O(logN)\n",
    "- 이진탐색 알고리즘은 구현이 까다롭고 코딩테스트에서 단골로 나오는 문제이니 가급적 외우길 권장\n",
    "- 코딩테스트의 이진탐색문제는 탐색범위가 큰 상황에서의 탐색을 가정하는 문제가 많이 때문에 탐색범위가 2000만을 넘어가면 이진탐색 문제에 접근해보기를 권장"
   ]
  },
  {
   "cell_type": "code",
   "execution_count": 3,
   "metadata": {},
   "outputs": [
    {
     "name": "stdout",
     "output_type": "stream",
     "text": [
      "10 7\n",
      "1 3 5 7 9 11 13 15 17 19\n",
      "4\n"
     ]
    }
   ],
   "source": [
    "# 이진 탐색 소스코드 구현 (재귀 함수)\n",
    "\n",
    "def binary_search(array, target, start, end):\n",
    "    if start > end:\n",
    "        return None\n",
    "    mid = (start + end) // 2 #몫 연산자 사용\n",
    "    # 찾은 경우 중간점 인덱스 반환\n",
    "    if array[mid] == target:\n",
    "        return mid\n",
    "    # 중간점의 값보다 찾고자 하는 값이 작은 경우 왼쪽 확인\n",
    "    elif array[mid] > target:\n",
    "        return binary_search(array, target, start, mid - 1)\n",
    "    # 중간점의 값보다 찾고자 하는 값이 큰 경우 오른쪽 확인\n",
    "    else:\n",
    "        return binary_search(array, target, mid + 1, end)\n",
    "\n",
    "# n(원소의 개수)과 target(찾고자 하는 값)을 입력 받기\n",
    "n, target = list(map(int, input().split()))\n",
    "# 전체 원소 입력 받기\n",
    "array = list(map(int, input().split()))\n",
    "\n",
    "# 이진 탐색 수행 결과 출력\n",
    "result = binary_search(array, target, 0, n - 1) #인덱스이기 때문에 0부터 시작\n",
    "if result == None:\n",
    "    print(\"원소가 존재하지 않습니다.\")\n",
    "else:\n",
    "    print(result + 1)"
   ]
  },
  {
   "cell_type": "code",
   "execution_count": 4,
   "metadata": {},
   "outputs": [
    {
     "name": "stdout",
     "output_type": "stream",
     "text": [
      "10 7\n",
      "1 3 6 9 11 13 15 17 19\n",
      "원소가 존재하지 않습니다.\n"
     ]
    }
   ],
   "source": [
    "# 이진 탐색 소스코드 구현 (반복문)\n",
    "\n",
    "def binary_search(array, target, start, end):\n",
    "    while start <= end:\n",
    "        mid = (start + end) // 2 #몫 연산자 사용\n",
    "        # 찾은 경우 중간점 인덱스 반환\n",
    "        if array[mid] == target:\n",
    "            return mid\n",
    "        # 중간점의 값보다 찾고자 하는 값이 작은 경우 왼쪽 확인\n",
    "        elif array[mid] > target:\n",
    "            end = mid - 1\n",
    "        # 중간점의 값보다 찾고자 하는 값이 큰 경우 오른쪽 확인\n",
    "        else:\n",
    "            start = mid + 1\n",
    "    return None\n",
    "\n",
    "# n(원소의 개수)과 target(찾고자 하는 값)을 입력 받기\n",
    "n, target = list(map(int, input().split()))\n",
    "# 전체 원소 입력 받기\n",
    "array = list(map(int, input().split()))\n",
    "\n",
    "# 이진 탐색 수행 결과 출력\n",
    "result = binary_search(array, target, 0, n - 1) #인덱스 이기 때문에 0부터 시작\n",
    "if result == None:\n",
    "    print(\"원소가 존재하지 않습니다.\")\n",
    "else:\n",
    "    print(result + 1)"
   ]
  },
  {
   "cell_type": "markdown",
   "metadata": {},
   "source": [
    "## 파이썬 이진탐색 라이브러리\n",
    "- bisect_left(a, x): 정렬된 순서를 유지하면서 배열 a에 x를 삽입할 가장 왼쪽 인덱스를 만환</n>\n",
    "- bisect_right(a, x): 정렬된 순서를 유지하면서 배열 a에 x를 삽입할 가장 오른쪽 인덱스를 반환</n>"
   ]
  },
  {
   "cell_type": "code",
   "execution_count": 27,
   "metadata": {},
   "outputs": [
    {
     "name": "stdout",
     "output_type": "stream",
     "text": [
      "2\n",
      "4\n"
     ]
    }
   ],
   "source": [
    "from bisect import bisect_left, bisect_right\n",
    "a=[1,2,4,4,8]\n",
    "x=4\n",
    "print(bisect_left(a,x)) #2와 4 사이 인덱스를 가리킴\n",
    "print(bisect_right(a,x)) #4와 8 사이 인덱스를 가리킴"
   ]
  },
  {
   "cell_type": "code",
   "execution_count": 30,
   "metadata": {},
   "outputs": [
    {
     "name": "stdout",
     "output_type": "stream",
     "text": [
      "(6, 8, 2)\n",
      "(0, 6, 6)\n"
     ]
    }
   ],
   "source": [
    "from bisect import bisect_left, bisect_right\n",
    "\n",
    "def count(a, left_value, right_value):\n",
    "    right_index=bisect_right(a, right_value)\n",
    "    left_index=bisect_left(a, left_value)\n",
    "    return left_index, right_index, right_index-left_index \n",
    "\n",
    "#배열 선언\n",
    "a=[1,2,3,3,3,3,4,4,8,9]\n",
    "\n",
    "#값이 4인 데이터개수 출력\n",
    "print(count(a,4,4))\n",
    "\n",
    "#값이 [-1, 3]범위에 있는 데이터개수 출력\n",
    "print(count(a,-1,3))"
   ]
  },
  {
   "cell_type": "markdown",
   "metadata": {},
   "source": [
    "## 3. 트리 자료구조\n",
    "- 데이터베이스는 내부적으로 대용량 데이터처리에 적합한 트리 자료구조를 이용하여 항상 데이터가 정렬되어있다. \n",
    "- 이진탐색과 유사한 방법을 이용해 탐색을 항상 빠르게 수행하도록 설계되어있어 데이터가 많아도 탐색하는 속도가 빠르다\n",
    "- 트리자료구조란 노드와 노드의 연결로 표현, 노드는 정보의 단위로 어떠한 정보를 가지고 있는 개체이다\n",
    "</n>\n",
    "\n",
    "##### 트리 자료구조의 특징\n",
    "- 트리는 부모노드와 자식노드의 관계로 표현된다\n",
    "- 트리의 최상단 노드를 루트노드라고한다\n",
    "- 트리의 최하단 노드를 단말 노드라고 한다\n",
    "- 트리에서 일부를 떼어내도 트리구조이며 이를 서브트리라고 한다\n",
    "- 트리는 파일 시스템과 같이 계층적으로 정렬된 데이터를 다루기에 적합하다\n",
    "\n",
    "<img src=\"https://miro.medium.com/max/1400/1*F78cM2sJ5Ix83EBWpPoNlw.png\">\n",
    "\n",
    "##### <참고>이코데 내 트리자료 구조 설명(트리구조, 이진탐색트리, 순회):\n",
    "https://www.youtube.com/watch?v=i5yHkP1jQmo"
   ]
  },
  {
   "cell_type": "markdown",
   "metadata": {},
   "source": [
    "## 4. 이진탐색 트리\n",
    "- 트리 자료구조를 이용해 이진탐색을 수행하는 방법\n",
    "- 가장 간단한 형태의 트리 자료구조\n",
    "- 구현해놓은거 보니까 각각 클래스를 만들어주고 초기화하는 형태가 복잡해보여서 실제 써먹을 수 있을지가 의문..\n",
    "- 시간 복잡도는 O(logN)으로 빠른 편이다.\n",
    "\n",
    "##### 이진탐색트리의 특징\n",
    "- 부모노드보다 왼쪽 자식노드가 작다\n",
    "- 부모노드보다 오른쪽 자식노드가 크다\n",
    "- 즉, 왼쪽 자식노드<부모<오른쪽 자식노드\n",
    "\n",
    "##### 이진탐색트리 탐색과정(taget: 27)\n",
    "<img src=\"https://img1.daumcdn.net/thumb/R1280x0/?scode=mtistory2&fname=https%3A%2F%2Ft1.daumcdn.net%2Fcfile%2Ftistory%2F99631E4B5C5C511D38\">\n",
    "\n",
    "##### 구현이 궁금하다면 참고:\n",
    "- https://geonlee.tistory.com/72"
   ]
  },
  {
   "cell_type": "code",
   "execution_count": 6,
   "metadata": {},
   "outputs": [
    {
     "name": "stdout",
     "output_type": "stream",
     "text": [
      "\n"
     ]
    }
   ],
   "source": [
    "##입력데이터가 많은 경우input()대신 sys라이브러리의 readlines()함수를 사용하면 시간초과를 피할 수 있다\n",
    "  \n",
    "import sys\n",
    "\n",
    "# 하나의 문자열 데이터 입력 받기\n",
    "input_data = sys.stdin.readline().rstrip()\n",
    "# 입력 받은 문자열 그대로 출력하기\n",
    "print(input_data)"
   ]
  },
  {
   "cell_type": "markdown",
   "metadata": {},
   "source": [
    "## 실전문제\n",
    "### (2) 부품찾기\n",
    "\n",
    "- 동빈이네 전자 매장에는 N개의 부품이 있고 각 부품에는 고유한 정수 형태의 이름이 있다.\n",
    "- 어느 날 손님이 M개 종류의 부품을 대량으로 구매하겠다며 당일 날 견적서를 요청했다.\n",
    "- 가게 안에 손님이 요구하는 부품이 모두 있는지 확인하는 프로그램을 작성해보자\n",
    "- 전략: for문을 여러번 돌리면 굳이 이진탐색을 사용하지 않아도 풀 수 있지 않을까?"
   ]
  },
  {
   "cell_type": "code",
   "execution_count": 16,
   "metadata": {},
   "outputs": [
    {
     "name": "stdout",
     "output_type": "stream",
     "text": [
      "5\n",
      "8 3 7 9 2\n",
      "3\n",
      "5 7 9\n",
      "no yes yes "
     ]
    }
   ],
   "source": [
    "#풀이1\n",
    "N=int(input())\n",
    "names=list(map(int, input().split()))\n",
    "M=int(input())\n",
    "request=list(map(int, input().split()))\n",
    "result=[]\n",
    "r=0\n",
    "for _ in range(M):\n",
    "    for n in names:\n",
    "        if n==request[r]:\n",
    "            result.append(\"yes\")\n",
    "        else: pass\n",
    "    if request[r] not in names:\n",
    "        result.append(\"no\")\n",
    "    r+=1\n",
    "for res in result:\n",
    "    print(res, end=' ')\n",
    "#성공해서 매우 뿌듯한 상태"
   ]
  },
  {
   "cell_type": "code",
   "execution_count": 23,
   "metadata": {},
   "outputs": [
    {
     "name": "stdout",
     "output_type": "stream",
     "text": [
      "5\n",
      "8 3 7 9 2\n",
      "3\n",
      "5 7 9\n",
      "no yes yes "
     ]
    }
   ],
   "source": [
    "#풀이2: 그래도 이진탐색으로 한 번 풀어볼까?\n",
    "\n",
    "def binary_search(array, target, start, end):\n",
    "    if start > end:\n",
    "        return None\n",
    "    mid = (start + end) // 2 #몫 연산자 사용\n",
    "    # 찾은 경우 중간점 인덱스 반환\n",
    "    if array[mid] == target:\n",
    "        return mid\n",
    "    # 중간점의 값보다 찾고자 하는 값이 작은 경우 왼쪽 확인\n",
    "    elif array[mid] > target:\n",
    "        return binary_search(array, target, start, mid - 1)\n",
    "    # 중간점의 값보다 찾고자 하는 값이 큰 경우 오른쪽 확인\n",
    "    else:\n",
    "        return binary_search(array, target, mid + 1, end)\n",
    "\n",
    "# n(원소의 개수)과 array 입력 받기\n",
    "N=int(input())\n",
    "array = list(map(int, input().split()))\n",
    "array.sort() #정렬 꼭 해야함\n",
    "\n",
    "# 전체 원소 입력 받기\n",
    "M=int(input())\n",
    "target = list(map(int, input().split()))\n",
    "\n",
    "# 이진 탐색 수행 결과 출력\n",
    "for i in target:\n",
    "    result = binary_search(array, i, 0, N - 1) #인덱스이기 때문에 0부터 시작\n",
    "    if result != None:\n",
    "        print(\"yes\", end=' ')\n",
    "    else:\n",
    "        print(\"no\", end=' ')"
   ]
  },
  {
   "cell_type": "code",
   "execution_count": 25,
   "metadata": {},
   "outputs": [
    {
     "name": "stdout",
     "output_type": "stream",
     "text": [
      "5\n",
      "8 3 7 9 2\n",
      "3\n",
      "5 7 9\n",
      "no yes yes "
     ]
    }
   ],
   "source": [
    "### 답지풀이-이진 탐색 소스코드 구현 (반복문)\n",
    "def binary_search(array, target, start, end):\n",
    "    while start <= end:\n",
    "        mid = (start + end) // 2\n",
    "        # 찾은 경우 중간점 인덱스 반환\n",
    "        if array[mid] == target:\n",
    "            return mid\n",
    "        # 중간점의 값보다 찾고자 하는 값이 작은 경우 왼쪽 확인\n",
    "        elif array[mid] > target:\n",
    "            end = mid - 1\n",
    "        # 중간점의 값보다 찾고자 하는 값이 작은 경우 오른쪽 확인\n",
    "        else:\n",
    "            start = mid + 1\n",
    "    return None\n",
    "\n",
    "# N(가게의 부품 개수) 입력\n",
    "n = int(input())\n",
    "# 가게에 있는 전체 부품 번호를 공백을 기준으로 구분하여 입력\n",
    "array = list(map(int, input().split()))\n",
    "array.sort() # 이진 탐색을 수행하기 위해 사전에 정렬 수행\n",
    "\n",
    "# M(손님이 확인 요청한 부품 개수) 입력\n",
    "m = int(input())\n",
    "# 손님이 확인 요청한 전체 부품 번호를 공백을 기준으로 구분하여 입력\n",
    "x = list(map(int, input().split()))\n",
    "\n",
    "# 손님이 확인 요청한 부품 번호를 하나씩 확인\n",
    "for i in x:\n",
    "    # 해당 부품이 존재하는지 확인\n",
    "    result = binary_search(array, i, 0, n - 1)\n",
    "    if result != None:\n",
    "        print('yes', end=' ')\n",
    "    else:\n",
    "        print('no', end=' ')"
   ]
  },
  {
   "cell_type": "code",
   "execution_count": null,
   "metadata": {},
   "outputs": [],
   "source": [
    "##미소미소\n",
    "\n",
    "#부품찾기\n",
    "def binary(a,t,s,e):\n",
    "    if s>e:\n",
    "        return None\n",
    "    m = (s+e)//2\n",
    "    if a[m] == t:\n",
    "        return m\n",
    "    elif a[m]>t:\n",
    "        return binary(a,t,s,m-1)\n",
    "    else:\n",
    "        return binary(a,t,m+1,e)\n",
    "\n",
    "N = int(input())\n",
    "array = list(map(int,input().split()))\n",
    "M = int(input())\n",
    "targets = list(map(int,input().split()))\n",
    "array.sort()\n",
    "\n",
    "for target in targets:\n",
    "    result = binary(array,target,0,N-1)\n",
    "    if result == None:\n",
    "        print(\"no\",end=\" \")\n",
    "    else:\n",
    "        print(\"yes\",end=\" \")"
   ]
  },
  {
   "cell_type": "code",
   "execution_count": 26,
   "metadata": {},
   "outputs": [
    {
     "name": "stdout",
     "output_type": "stream",
     "text": [
      "5\n",
      "8 3 7 9 2\n",
      "3\n",
      "5 7 9\n",
      "no yes yes "
     ]
    }
   ],
   "source": [
    "### 답지풀이-계수 정렬로 해결\n",
    "# N(가게의 부품 개수) 입력\n",
    "n = int(input())\n",
    "array = [0] * 1000001\n",
    "\n",
    "# 가게에 있는 전체 부품 번호를 입력 받아서 기록\n",
    "for i in input().split():\n",
    "    array[int(i)] = 1\n",
    "\n",
    "# M(손님이 확인 요청한 부품 개수) 입력\n",
    "m = int(input())\n",
    "# 손님이 확인 요청한 전체 부품 번호를 공백을 기준으로 구분하여 입력\n",
    "x = list(map(int, input().split()))\n",
    "\n",
    "# 손님이 확인 요청한 부품 번호를 하나씩 확인\n",
    "for i in x:\n",
    "    # 해당 부품이 존재하는지 확인\n",
    "    if array[i] == 1:\n",
    "        print('yes', end=' ')\n",
    "    else:\n",
    "        print('no', end=' ')\n",
    "        \n",
    "#공간을 많이 만들어서 그 공간에 해당하는 번호는 0을 1로 바꿔주고, 공간이 1일 땐 yes, 0일땐 no출력"
   ]
  },
  {
   "cell_type": "code",
   "execution_count": 17,
   "metadata": {},
   "outputs": [
    {
     "name": "stdout",
     "output_type": "stream",
     "text": [
      "5\n",
      "8 3 7 9 2\n",
      "3\n",
      "5 7 9\n",
      "no yes yes "
     ]
    }
   ],
   "source": [
    "### 답지풀이- 집합 자료형으로 해결\n",
    "\n",
    "# N(가게의 부품 개수) 입력\n",
    "n = int(input())\n",
    "# 가게에 있는 전체 부품 번호를 입력 받아서 집합(Set) 자료형에 기록\n",
    "array = set(map(int, input().split())) #정렬을 동시에 수행\n",
    "\n",
    "# M(손님이 확인 요청한 부품 개수) 입력\n",
    "m = int(input())\n",
    "# 손님이 확인 요청한 전체 부품 번호를 공백을 기준으로 구분하여 입력\n",
    "x = list(map(int, input().split()))\n",
    "\n",
    "# 손님이 확인 요청한 부품 번호를 하나씩 확인\n",
    "for i in x:\n",
    "    # 해당 부품이 존재하는지 확인\n",
    "    if i in array:\n",
    "        print('yes', end=' ')\n",
    "    else:\n",
    "        print('no', end=' ')"
   ]
  },
  {
   "cell_type": "markdown",
   "metadata": {},
   "source": [
    "### (3) 떡볶이 떡 만들기\n",
    "- 떡볶이 떡을 만드는데 떡의 길이가 일정하지 않음<del>(아니 굳이 왜..?)</del>\n",
    "- 절단기에 높이(H)를 지정하면 줄지어진 떡을 한 번에 절단한다. 높이가 H보다 긴 떡은 H위의 부분이 잘릴 것이고 낮은 떡은 잘리지 않는다\n",
    "- 예) 19, 14, 10, 17cm의 떡이 나란히 있고 절단기 높이를 15cm로 지정하면 자른 뒤의 떡의 높이는 15, 14, 10, 15cm\n",
    "- 잘린 떡의 길이는 4, 0, 0, 2cm이기 때문에 손님은 6cm의 길이를 가져간다 \n",
    "- 손님이 왔을 때 요청한 길이가 M일 때 적어도 M만큼의 떡을 얻기 위해 절단기에 설정할 수 있는 높이의 최댓값을 구하는 프로그램을 작성하라\n",
    "</n>\n",
    "- 파라메트릭서치(parametric search) 유형의 문제\n",
    "- 파라메트릭 서치: 최적화 문제를 예 혹은 아니오의 결정문제로 바꾸어 해결하는 기법\n",
    "- 일반적으로 파라메트릭서치문제는 이진탐색을 이용하여 해결함\n"
   ]
  },
  {
   "cell_type": "code",
   "execution_count": 46,
   "metadata": {},
   "outputs": [
    {
     "name": "stdout",
     "output_type": "stream",
     "text": [
      "4 6\n",
      "19 15 10 17\n",
      "15\n"
     ]
    }
   ],
   "source": [
    "# 떡의 개수(N)와 요청한 떡의 길이(M)을 입력\n",
    "n, m = list(map(int, input().split(' ')))\n",
    "# 각 떡의 개별 높이 정보를 입력\n",
    "array = list(map(int, input().split()))\n",
    "\n",
    "# 이진 탐색을 위한 시작점과 끝점 설정\n",
    "start = 0\n",
    "end = max(array)\n",
    "\n",
    "# 이진 탐색 수행 (반복적)\n",
    "result = 0\n",
    "while(start <= end):\n",
    "    total = 0\n",
    "    mid = (start + end) // 2\n",
    "    for x in array:\n",
    "        # 잘랐을 때의 떡볶이 양 계산\n",
    "        if x > mid:\n",
    "            total += x - mid\n",
    "    # 떡볶이 양이 부족한 경우 더 많이 자르기 (오른쪽 부분 탐색)\n",
    "    if total < m:\n",
    "        end = mid - 1\n",
    "    # 떡볶이 양이 충분한 경우 덜 자르기 (왼쪽 부분 탐색)\n",
    "    else:\n",
    "        result = mid # 최대한 덜 잘랐을 때가 정답이므로, 여기에서 result에 기록\n",
    "        start = mid + 1\n",
    "\n",
    "# 정답 출력\n",
    "print(result)"
   ]
  },
  {
   "cell_type": "code",
   "execution_count": 49,
   "metadata": {},
   "outputs": [
    {
     "name": "stdout",
     "output_type": "stream",
     "text": [
      "4 6\n",
      "19 15 10 17\n",
      "15\n"
     ]
    }
   ],
   "source": [
    "##미소미소\n",
    "#떡볶이 떡 만들기\n",
    "n,m=map(int,input().split())\n",
    "array = list(map(int,input().split()))\n",
    "height = max(array)\n",
    "def ddeokbokki(h):\n",
    "    ddeok = 0\n",
    "    for i in array:\n",
    "        if i > h:\n",
    "            ddeok += (i-h)\n",
    "    return ddeok\n",
    "\n",
    "for j in range(height,0,-1):\n",
    "    if ddeokbokki(j)>=m:\n",
    "        print(j)\n",
    "        break #제일 짧은 길이는 for문에서 해결해줌, 뒤부터 하는 순차탐색"
   ]
  },
  {
   "cell_type": "markdown",
   "metadata": {},
   "source": [
    "## 코딩테스트 문제</n>\n",
    "\n",
    "### (28) 고정점 찾기\n",
    "- 고정점: 수열의 원소 중에서 그 값이 인덱스와 동일한 원소를 의미\n",
    "- 하나의 수열이 N개의 서로 다른 원소를 포함하고 있으며, 모든 원소가 오름차순으로 정렬되어 있다\n",
    "- 이때 이 수열에서 고정점이 있다면 출력하는 프로그램을 작성하라. 만약 고정점이 없다면 -1을 출력한다.\n",
    "- ##### 단, 이 문제는 시간 복잡도 O(logN)으로 알고리즘을 설계하지 않으면 '시간초과 ' 판정을 받는다 #####\n",
    "- 전략: 무조건 이진탐색으로 풀으라는 얘기네"
   ]
  },
  {
   "cell_type": "code",
   "execution_count": 44,
   "metadata": {},
   "outputs": [
    {
     "name": "stdout",
     "output_type": "stream",
     "text": [
      "5\n",
      "-15 -6 1 3 7\n",
      "3\n"
     ]
    }
   ],
   "source": [
    "## 내 풀이(반복문으로 한 번 풀어보기)\n",
    "\n",
    "def binary_search(array, start, end):\n",
    "    while start <= end:\n",
    "        mid = (start + end) // 2 #몫 연산자 사용\n",
    "        # 찾은 경우 중간점 인덱스 반환\n",
    "        if array[mid] == mid: #여기가 어려웠음\n",
    "            return mid\n",
    "        # 중간점의 값보다 찾고자 하는 값이 작은 경우 왼쪽 확인\n",
    "        elif array[mid] > mid:\n",
    "            end = mid - 1\n",
    "        # 중간점의 값보다 찾고자 하는 값이 큰 경우 오른쪽 확인\n",
    "        else:\n",
    "            start = mid + 1\n",
    "    return None\n",
    "\n",
    "# n(원소의 개수)과 target(찾고자 하는 값)을 입력 받기\n",
    "N=int(input())\n",
    "array = list(map(int, input().split()))\n",
    "# 전체 원소 입력 받기\n",
    " \n",
    "# 이진 탐색 수행 결과 출력\n",
    "result = binary_search(array, 0, N - 1)#인덱스 이기 때문에 0부터 시작\n",
    "if result !=None:\n",
    "    print(result)\n",
    "else:\n",
    "    print(-1)\n",
    "    \n",
    "#target이 없어도 된다는 아이디어가 어려웠다."
   ]
  },
  {
   "cell_type": "code",
   "execution_count": 45,
   "metadata": {},
   "outputs": [
    {
     "name": "stdout",
     "output_type": "stream",
     "text": [
      "5\n",
      "-15 -6 1 3 7\n",
      "3\n"
     ]
    }
   ],
   "source": [
    "### 답지 풀이\n",
    "\n",
    "# 이진 탐색 소스코드 구현(재귀 함수)\n",
    "def binary_search(array, start, end):\n",
    "    if start > end:\n",
    "        return None\n",
    "    mid = (start + end) // 2\n",
    "    # 고정점을 찾은 경우 인덱스 반환\n",
    "    if array[mid] == mid:\n",
    "        return mid\n",
    "    # 중간점이 가리키는 값보다 중간점이 작은 경우 왼쪽 확인\n",
    "    elif array[mid] > mid:\n",
    "        return binary_search(array, start, mid - 1)\n",
    "    # 중간점이 가리키는 값보다 중간점이 큰 경우 오른쪽 확인\n",
    "    else:\n",
    "        return binary_search(array, mid + 1, end)\n",
    "\n",
    "n = int(input())\n",
    "array = list(map(int, input().split()))\n",
    "\n",
    "# 이진 탐색(Binary Search) 수행\n",
    "index = binary_search(array, 0, n - 1)\n",
    "\n",
    "# 고정점이 없는 경우 -1 출력\n",
    "if index == None:\n",
    "    print(-1)\n",
    "# 고정점이 있는 경우 해당 인덱스 출력\n",
    "else:\n",
    "    print(index)"
   ]
  },
  {
   "cell_type": "code",
   "execution_count": null,
   "metadata": {},
   "outputs": [],
   "source": [
    "#지은지은\n",
    "#탐색할 요소의 수를 대폭 줄임\n",
    "from bisect import bisect_left, bisect_right\n",
    "\n",
    "def fix_point(array, start, end):\n",
    "    start = bisect_right(array, start) #start와 end값을 조정한다. 인덱스값은 0부터 시작이므로 값이 0인것부터 start범위를 잡고 \n",
    "    end = bisect_left(array, end) -1  #인덱스값은 end값보다 큰 것은 나타날 수 없으므로 end범위도 조정한다.\n",
    "    print(\"start: \", start, \", end: \", end)\n",
    "    \n",
    "    while start <= end: #start가 end보다 작거나 같을 때 while문을 돈다\n",
    "        mid = (start + end) // 2\n",
    "        print(\"start:\", start, \", end = \", end, \", mid:\", mid)\n",
    "        if array[mid] == mid:         \n",
    "            return mid\n",
    "        elif mid > array[mid]: #인덱스값(mid) 가 값보다 크면 start를 mid뒤로 움직인다.(오름차순 정렬이므로) 오른쪽을 확인\n",
    "            start = mid + 1\n",
    "        elif array[mid] > mid: #값이 인덱스보다 크면 end를 mid앞으로 움직인다 왼쪽부분을 확인 ex)index = 2 , 값=4 \n",
    "            end = mid - 1\n",
    "    return -1 #while문이 끝나도 아무것도 해당안된다면 -1을 반환한다.\n",
    "        \n",
    "        \n",
    "n = int(input())\n",
    "array = list(map(int, input().split()))\n",
    "\n",
    "result = fix_point(array, 0, n-1)\n",
    "print(result)\n",
    "            "
   ]
  },
  {
   "cell_type": "code",
   "execution_count": null,
   "metadata": {},
   "outputs": [],
   "source": [
    "#미소미소\n",
    "#고정점 찾기\n",
    "\n",
    "def binary(a,s,e):\n",
    "    if s>e:\n",
    "        return None\n",
    "    m = (s+e)//2\n",
    "    if a[m] == m:\n",
    "        return m\n",
    "    elif a[m]>m:\n",
    "        return binary(a,s,m-1)\n",
    "    else:\n",
    "        return binary(a,m+1,e)\n",
    "\n",
    "n = int(input())\n",
    "a = list(map(int,input().split()))\n",
    "\n",
    "result = binary(a,0,n-1)\n",
    "\n",
    "if result == None:\n",
    "    print(-1)\n",
    "else:\n",
    "    print(result)"
   ]
  },
  {
   "cell_type": "markdown",
   "metadata": {},
   "source": [
    "#### 정렬된 배열에서 특정 수의 개수 구하기\n",
    "- N개의 원소를 포함하고 있는 수열이 오름차순으로 정렬되어있음\n",
    "- 이 때 수열에서 x가 등장하는 횟수를 계산하세요\n",
    "- 예) 수열 1,1,2,2,2,2,3있을 때 x=2라면 수열에서 값이 2인 원소가 4개이므로 4를 출력한다"
   ]
  },
  {
   "cell_type": "code",
   "execution_count": 54,
   "metadata": {},
   "outputs": [
    {
     "name": "stdout",
     "output_type": "stream",
     "text": [
      "7 2\n",
      "1 1 2 2 2 2 3\n",
      "4\n"
     ]
    }
   ],
   "source": [
    "## bisect 그대로 사용하면 됨\n",
    "from bisect import bisect_left, bisect_right\n",
    "def count_num(a, l, r):\n",
    "    left_index=bisect_left(a, x)\n",
    "    right_index=bisect_right(a, x)\n",
    "    return right_index-left_index\n",
    "\n",
    "n, x=map(int, input().split())\n",
    "a=list(map(int, input().split()))\n",
    "print(count_num(a,x,x))"
   ]
  }
 ],
 "metadata": {
  "kernelspec": {
   "display_name": "Python 3",
   "language": "python",
   "name": "python3"
  },
  "language_info": {
   "codemirror_mode": {
    "name": "ipython",
    "version": 3
   },
   "file_extension": ".py",
   "mimetype": "text/x-python",
   "name": "python",
   "nbconvert_exporter": "python",
   "pygments_lexer": "ipython3",
   "version": "3.8.5"
  }
 },
 "nbformat": 4,
 "nbformat_minor": 4
}
