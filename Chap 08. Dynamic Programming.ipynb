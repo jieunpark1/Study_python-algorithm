{
 "cells": [
  {
   "cell_type": "markdown",
   "metadata": {},
   "source": [
    "# Chap 08. 다이나믹 프로그래밍"
   ]
  },
  {
   "cell_type": "markdown",
   "metadata": {},
   "source": [
    "## 다이나믹 프로그래밍이란?"
   ]
  },
  {
   "cell_type": "markdown",
   "metadata": {},
   "source": [
    "### - 큰 문제를 작은 문제로 나누어 푸는 문제이다. 작은 문제들을 어딘가에 메모하여, 똑같은 작은 문제가 나타날 때 메모했던 것에서 결과값을 끌어온다.\n",
    "\n",
    "### - 조건\n",
    "- 1. 최적 부분 구조: 큰 문제를 작은 문제로 나눌 수 있다.\n",
    "- 2. 중복되는 부분 문제: 작은 문제가 중첩되어 여러번 등장한다.\n",
    "- (3. 같은 문제는 구할 때마다 정답이 같다.) \n",
    "- ex) 피보나치 수열 4와 10을 구할 때, 3까지의 피보나치 수열은 두 경우 모두 동일하다."
   ]
  },
  {
   "cell_type": "markdown",
   "metadata": {},
   "source": [
    "### - 메모이제이션: 조건 3번과 같이 한 번 계산되었던 작은 문제들의 결과값을 저장하는 기법이다."
   ]
  },
  {
   "cell_type": "markdown",
   "metadata": {},
   "source": [
    "### - 구현방법(2 ways)\n",
    "#### 1. 하향식(Top-down)\n",
    "- 한 번 계산한 결과를 메모리 공간에 메모하는 기법\n",
    "- 작은 문제의 값을 별도의 공간에 저장해놓았다가 다시 가져오는 것. \n",
    "- 값을 기록해 놓는다는 점에서 '캐싱'이라고도 한다.\n",
    "- 기억해 두는 변수 이름: memo, cache, table, dp, d\n",
    "- 작은 문제들을 재귀적으로 돌려서 기록해놓고 메모기법 \n",
    "\n",
    "- 메모이제이션은 다이나믹 프로그래밍에 국한된 개념은 아니고, 한번 기록해 놓은 것을 따로 저장해둔다는 포괄적인 개념으로 사용가능. 그것이 동적 프로그래밍을 위해 활용되지 않아도 된다.\n"
   ]
  },
  {
   "cell_type": "code",
   "execution_count": 21,
   "metadata": {},
   "outputs": [
    {
     "name": "stdout",
     "output_type": "stream",
     "text": [
      "#동적 프로그래밍으로 작성한 (하향식) 피보나치 배열\n",
      "f( 6 ) 호출됨\n",
      "f( 5 ) 호출됨\n",
      "f( 4 ) 호출됨\n",
      "f( 3 ) 호출됨\n",
      "f( 2 ) 호출됨\n",
      "f( 1 ) 호출됨\n",
      "f( 2 ) 호출됨\n",
      "f( 3 ) 호출됨\n",
      "3\n",
      "f( 4 ) 호출됨\n",
      "4\n",
      "8\n",
      "[0, 0, 0, 2, 3, 5, 8]\n"
     ]
    }
   ],
   "source": [
    "#1. top-down(재귀함수 사용)\n",
    "d = [0] * 7 #0~99까지의 인덱스, 99번째 피보나치 구하고 싶어서\n",
    "\n",
    "def fibo_topdown(x):\n",
    "    print(\"f(\", x, \") 호출됨\")\n",
    "    if x == 1 or x == 2:\n",
    "        return 1\n",
    "    \n",
    "    #메모이제이션 된 x가 있다면, 거기에서 데이터를 끌어온다\n",
    "    if d[x] != 0:\n",
    "        print(x) #f(3), f(4)는 메모이제이션에서 불러옴\n",
    "        return d[x]\n",
    "    \n",
    "    #메모이제이션 되지 않았다면 점화식에 따라서 결과를 반환한다.\n",
    "    d[x] = fibo_topdown(x-1) + fibo_topdown(x-2)\n",
    "    return d[x]\n",
    "\n",
    "print(\"#동적 프로그래밍으로 작성한 (하향식) 피보나치 배열\")\n",
    "print(fibo_topdown(6))\n",
    "print(d)"
   ]
  },
  {
   "cell_type": "markdown",
   "metadata": {},
   "source": [
    "#### 2. 상향식(Bottom-up)\n",
    "- 아래쪽에서부터 작은 문제를 하나씩 해결해가면서 그것을 해결해서 큰 것을 해결해나간다\n",
    "- 반복문 이용\n",
    "- 다이나믹 프로그래밍의 전형적인 타입은 bottom up방식\n",
    "- 결과 저장용 리스트는 dp 테이블 (리스트=다른 언어의 배열)"
   ]
  },
  {
   "cell_type": "code",
   "execution_count": 22,
   "metadata": {},
   "outputs": [
    {
     "name": "stdout",
     "output_type": "stream",
     "text": [
      "F( 3 ) 호출됨\n",
      "F( 4 ) 호출됨\n",
      "F( 5 ) 호출됨\n",
      "F( 6 ) 호출됨\n",
      "8\n"
     ]
    }
   ],
   "source": [
    "d = [0] * 100\n",
    "#첫번째 피보나치 수와 두 번째 피보나치수는 1\n",
    "d[1] = 1\n",
    "d[2] = 1\n",
    "n = 6\n",
    "\n",
    "for i in range(3, n+1):\n",
    "    print(\"F(\", i, \") 호출됨\")\n",
    "    d[i] = d[i-1] + d[i-2] #작은 수부터 해결해나가는 방식\n",
    "print(d[n])"
   ]
  },
  {
   "cell_type": "markdown",
   "metadata": {},
   "source": [
    "### 참고\n",
    "https://galid1.tistory.com/507"
   ]
  },
  {
   "cell_type": "markdown",
   "metadata": {},
   "source": [
    "### dp[0], dp[1], dp[2]의 관계를 잘 따져보는 것이 다이나믹 프로그래밍을 잘 풀 수 있는 팁이다."
   ]
  },
  {
   "cell_type": "markdown",
   "metadata": {},
   "source": [
    "### 실전문제\n",
    "### 1. 1로 만들기"
   ]
  },
  {
   "cell_type": "markdown",
   "metadata": {},
   "source": [
    "- 정수x가 주어졌을 때, 5로 나누어 떨어질 때 5로 나누거나, 3으로 나누어 떨어질 때 3으로 나누거나, 2로 나누어 떨어질 때 2로 나누거나 1을 빼서 최종적으로 1을 만들려고 한다. 연산을 사용하는 횟수의 최솟값을 출력해라\n",
    "\n",
    "- 조건 확인: 왜 다이나믹으로 풀수 있는가? - 큰 문제를 작은 문제로 쪼개어 풀 수 있는가? / 반복되는가?\n",
    "\n",
    "- 재귀 point: 임의의 수에 대한 연산의 최솟값은 항상 동일하다.\n",
    "\n",
    "### 점화식: Ai = MIN(A i-1, A i/2, A i/3, A i/5) + 1\n",
    "- i번째 연산의 최솟값은 i-1번째, i/2번째, i/3번째, i/5번째 수 중에서 가장 작은 연산값에 1을 더한 것이다.\n",
    "\n",
    "### Bottom up 방식에서 메모제이션 기법을 활용하여 i번째 오는 수의 연산 최솟값을 dp테이블에 저장해 놓는다."
   ]
  },
  {
   "cell_type": "markdown",
   "metadata": {},
   "source": [
    "index: 0 1 2 3 4 5\n",
    "count: X 0 1 2 2 3"
   ]
  },
  {
   "cell_type": "code",
   "execution_count": 2,
   "metadata": {},
   "outputs": [
    {
     "name": "stdout",
     "output_type": "stream",
     "text": [
      "26\n",
      "[0, 0, 1, 0, 0, 0, 0, 0, 0, 0, 0, 0, 0, 0, 0, 0, 0, 0, 0, 0, 0, 0, 0, 0, 0, 0, 0]\n",
      "[0, 0, 1, 1, 0, 0, 0, 0, 0, 0, 0, 0, 0, 0, 0, 0, 0, 0, 0, 0, 0, 0, 0, 0, 0, 0, 0]\n",
      "[0, 0, 1, 1, 2, 0, 0, 0, 0, 0, 0, 0, 0, 0, 0, 0, 0, 0, 0, 0, 0, 0, 0, 0, 0, 0, 0]\n",
      "[0, 0, 1, 1, 2, 1, 0, 0, 0, 0, 0, 0, 0, 0, 0, 0, 0, 0, 0, 0, 0, 0, 0, 0, 0, 0, 0]\n",
      "[0, 0, 1, 1, 2, 1, 2, 0, 0, 0, 0, 0, 0, 0, 0, 0, 0, 0, 0, 0, 0, 0, 0, 0, 0, 0, 0]\n",
      "[0, 0, 1, 1, 2, 1, 2, 3, 0, 0, 0, 0, 0, 0, 0, 0, 0, 0, 0, 0, 0, 0, 0, 0, 0, 0, 0]\n",
      "[0, 0, 1, 1, 2, 1, 2, 3, 3, 0, 0, 0, 0, 0, 0, 0, 0, 0, 0, 0, 0, 0, 0, 0, 0, 0, 0]\n",
      "[0, 0, 1, 1, 2, 1, 2, 3, 3, 2, 0, 0, 0, 0, 0, 0, 0, 0, 0, 0, 0, 0, 0, 0, 0, 0, 0]\n",
      "[0, 0, 1, 1, 2, 1, 2, 3, 3, 2, 2, 0, 0, 0, 0, 0, 0, 0, 0, 0, 0, 0, 0, 0, 0, 0, 0]\n",
      "[0, 0, 1, 1, 2, 1, 2, 3, 3, 2, 2, 3, 0, 0, 0, 0, 0, 0, 0, 0, 0, 0, 0, 0, 0, 0, 0]\n",
      "[0, 0, 1, 1, 2, 1, 2, 3, 3, 2, 2, 3, 3, 0, 0, 0, 0, 0, 0, 0, 0, 0, 0, 0, 0, 0, 0]\n",
      "[0, 0, 1, 1, 2, 1, 2, 3, 3, 2, 2, 3, 3, 4, 0, 0, 0, 0, 0, 0, 0, 0, 0, 0, 0, 0, 0]\n",
      "[0, 0, 1, 1, 2, 1, 2, 3, 3, 2, 2, 3, 3, 4, 4, 0, 0, 0, 0, 0, 0, 0, 0, 0, 0, 0, 0]\n",
      "[0, 0, 1, 1, 2, 1, 2, 3, 3, 2, 2, 3, 3, 4, 4, 2, 0, 0, 0, 0, 0, 0, 0, 0, 0, 0, 0]\n",
      "[0, 0, 1, 1, 2, 1, 2, 3, 3, 2, 2, 3, 3, 4, 4, 2, 3, 0, 0, 0, 0, 0, 0, 0, 0, 0, 0]\n",
      "[0, 0, 1, 1, 2, 1, 2, 3, 3, 2, 2, 3, 3, 4, 4, 2, 3, 4, 0, 0, 0, 0, 0, 0, 0, 0, 0]\n",
      "[0, 0, 1, 1, 2, 1, 2, 3, 3, 2, 2, 3, 3, 4, 4, 2, 3, 4, 3, 0, 0, 0, 0, 0, 0, 0, 0]\n",
      "[0, 0, 1, 1, 2, 1, 2, 3, 3, 2, 2, 3, 3, 4, 4, 2, 3, 4, 3, 4, 0, 0, 0, 0, 0, 0, 0]\n",
      "[0, 0, 1, 1, 2, 1, 2, 3, 3, 2, 2, 3, 3, 4, 4, 2, 3, 4, 3, 4, 3, 0, 0, 0, 0, 0, 0]\n",
      "[0, 0, 1, 1, 2, 1, 2, 3, 3, 2, 2, 3, 3, 4, 4, 2, 3, 4, 3, 4, 3, 4, 0, 0, 0, 0, 0]\n",
      "[0, 0, 1, 1, 2, 1, 2, 3, 3, 2, 2, 3, 3, 4, 4, 2, 3, 4, 3, 4, 3, 4, 4, 0, 0, 0, 0]\n",
      "[0, 0, 1, 1, 2, 1, 2, 3, 3, 2, 2, 3, 3, 4, 4, 2, 3, 4, 3, 4, 3, 4, 4, 5, 0, 0, 0]\n",
      "[0, 0, 1, 1, 2, 1, 2, 3, 3, 2, 2, 3, 3, 4, 4, 2, 3, 4, 3, 4, 3, 4, 4, 5, 4, 0, 0]\n",
      "[0, 0, 1, 1, 2, 1, 2, 3, 3, 2, 2, 3, 3, 4, 4, 2, 3, 4, 3, 4, 3, 4, 4, 5, 4, 2, 0]\n",
      "[0, 0, 1, 1, 2, 1, 2, 3, 3, 2, 2, 3, 3, 4, 4, 2, 3, 4, 3, 4, 3, 4, 4, 5, 4, 2, 3]\n",
      "3\n"
     ]
    }
   ],
   "source": [
    "#지은\n",
    "x = int(input())\n",
    "cnt = 0\n",
    "dp = [0]*(x+1)\n",
    "for x in range(2, x+1):\n",
    "    cnt += 1\n",
    "    min_box = []\n",
    "    \n",
    "    if x % 5 == 0:\n",
    "        y = x//5\n",
    "        min_box.append(cnt)\n",
    "        min_box.append(dp[y]+1) #min_box.append(min(cnt, dp[y]+1))\n",
    "    if x % 3 == 0:\n",
    "        y = x//3\n",
    "        min_box.append(cnt)\n",
    "        min_box.append(dp[y]+1)\n",
    "    if x %2 == 0:\n",
    "        y = x//2\n",
    "        min_box.append(cnt)\n",
    "        min_box.append(dp[y]+1)\n",
    "    if True:\n",
    "        y = x - 1\n",
    "        min_box.append(cnt)\n",
    "        min_box.append(dp[y]+1)\n",
    "        \n",
    "    dp[x] = min(min_box)\n",
    "    print(dp)\n",
    "print(dp[x])"
   ]
  },
  {
   "cell_type": "code",
   "execution_count": 1,
   "metadata": {},
   "outputs": [
    {
     "name": "stdout",
     "output_type": "stream",
     "text": [
      "5\n"
     ]
    }
   ],
   "source": [
    "d = [0]*30000\n",
    "\n",
    "x = 26\n",
    "\n",
    "if d[x] != 0:\n",
    "    print(d[x])\n",
    "else:\n",
    "    num = x\n",
    "    while num > 1:\n",
    "        if x%5 == 0:\n",
    "            num /= 5\n",
    "            d[x]+=1\n",
    "        elif x%3 == 0:\n",
    "            num /= 3\n",
    "            d[x]+=1\n",
    "        elif x%2 == 0:\n",
    "            num /= 2\n",
    "            d[x]+=1\n",
    "        else:\n",
    "            num -= 1\n",
    "            d[x]+=1\n",
    "    print(d[x])"
   ]
  },
  {
   "cell_type": "code",
   "execution_count": null,
   "metadata": {},
   "outputs": [],
   "source": [
    "d = [0]*30000\n",
    "\n",
    "\n",
    "def into1(x):\n",
    "    if d[x] != 0:\n",
    "        return d[x]\n",
    "    num = x\n",
    "    while num > 1:\n",
    "        if x%5 == 0:\n",
    "            num = x/5\n",
    "            d[x]+=1\n",
    "        elif x%3 == 0:\n",
    "            num = x/3\n",
    "            d[x]+=1\n",
    "        elif x%2 == 0:\n",
    "            num = x/2\n",
    "            d[x]+=1\n",
    "        else:\n",
    "            num -= 1\n",
    "            d[x]+=1\n",
    "    return into1(x)\n",
    "\n",
    "x = int(input())\n",
    "\n",
    "into1(x) "
   ]
  },
  {
   "cell_type": "code",
   "execution_count": null,
   "metadata": {},
   "outputs": [],
   "source": [
    "x = int(input())\n",
    "count = 0\n",
    "while x != 1:\n",
    "    if x%5 == 0:\n",
    "        x = x/5\n",
    "        count+=1\n",
    "    elif x%3 == 0:\n",
    "        x = x/3\n",
    "        count+=1\n",
    "    elif x%2 == 0:\n",
    "        x = x/2\n",
    "        count+=1\n",
    "    else:\n",
    "        x = x-1\n",
    "        count+=1\n",
    "print(count)"
   ]
  },
  {
   "cell_type": "markdown",
   "metadata": {},
   "source": [
    "### 답안예시"
   ]
  },
  {
   "cell_type": "code",
   "execution_count": 6,
   "metadata": {},
   "outputs": [
    {
     "name": "stdout",
     "output_type": "stream",
     "text": [
      "10\n",
      "[0, 0, 1, 0, 0, 0, 0, 0, 0, 0, 0]\n",
      "[0, 0, 1, 1, 0, 0, 0, 0, 0, 0, 0]\n",
      "[0, 0, 1, 1, 2, 0, 0, 0, 0, 0, 0]\n",
      "[0, 0, 1, 1, 2, 1, 0, 0, 0, 0, 0]\n",
      "[0, 0, 1, 1, 2, 1, 2, 0, 0, 0, 0]\n",
      "[0, 0, 1, 1, 2, 1, 2, 0, 0, 0, 0]\n",
      "[0, 0, 1, 1, 2, 1, 2, 3, 3, 0, 0]\n",
      "[0, 0, 1, 1, 2, 1, 2, 3, 3, 2, 0]\n",
      "[0, 0, 1, 1, 2, 1, 2, 3, 3, 2, 2]\n",
      "[0, 0, 1, 1, 2, 1, 2, 3, 3, 2, 2]\n",
      "2\n"
     ]
    }
   ],
   "source": [
    "x = int(input()) #x가 어떻게 줄어드는 게 중요한 게 아니라 count가 중요하다\n",
    "\n",
    "d = [0] * (x+1) #d배열의 인덱스 = 수(x), 해당 인덱스에 들어가는 값 = 횟수\n",
    "\n",
    "for i in range(2, x+1): #왜2부터 시작하나? 1은 cnt가 0이라서, \n",
    "    \n",
    "    d[i] = d[i-1] +1 #일단 1빼는 경우를 가정하여 횟수1 추가 -> \"1을 뺀다\"라는 조건이면 규칙이 성립이 안되어서\n",
    "    if i % 2 == 0:\n",
    "        #아까 업데이트 했던 d[i]와 다이나믹으로 해결한 d[i//2]를 비교하여 작은 것으로 업데이트\n",
    "        d[i] = min(d[i], d[i//2]+1) \n",
    "        print(d)\n",
    "\n",
    "    if i % 3 == 0:\n",
    "        d[i] = min(d[i], d[i//3]+1)\n",
    "        print(d)\n",
    "        \n",
    "    if i%5 == 0:\n",
    "        d[i] = min(d[i], d[i//5]+1)\n",
    "        print(d)\n",
    "        \n",
    "print(d[x])"
   ]
  },
  {
   "cell_type": "markdown",
   "metadata": {},
   "source": [
    "### 2. 개미전사\n",
    "- n개의 식량 창고는 일직선으로 이어져 있으나, 서로 인접한 식량창고에는 방문할 수 없다. 주어진 array에서 최대로 얻을 수 있는 식량의 개수를 구하여라.\n",
    "- 큰 것은 작은 것으로 쪼개서 계산할 수 있다. (n개가 있는 array의 max를 계산하려면 맨 처음부터 하나씩 max를 계산해야 한다)\n",
    "- dp_table에서 이 전에 계산했던 것을 불러와서 비교해야 하는 것이 반복해서 실행되어야 한다.\n"
   ]
  },
  {
   "cell_type": "markdown",
   "metadata": {},
   "source": [
    "### 점화식: A i = MAX(A i-1, A i-2 + K)\n",
    "- 인접한 식량창고에는 접근할 수 없으므로, dp 테이블에서 i-1번째 혹은 i-2번째(전전)에 있는 것과 i번째(현재)에 있는 식량의 개수(K)개를 더한 것 중 최대인 것을 고른다.\n"
   ]
  },
  {
   "cell_type": "code",
   "execution_count": 10,
   "metadata": {},
   "outputs": [
    {
     "name": "stdout",
     "output_type": "stream",
     "text": [
      "4\n",
      "1 3 1 5\n",
      "8\n"
     ]
    }
   ],
   "source": [
    "n = int(input())\n",
    "array = list(map(int, input().split()))\n",
    "\n",
    "dp_table = [0] * n #dp_table은 i창고까지 가져갈 수 있는 가장 최대의 식량의 수를 표현하는 테이블이다.\n",
    "\n",
    "dp_table[0] = array[0] #array의 첫 번째 요소를 dp_table의 첫 번째에 넣음\n",
    "dp_table[1] = max(array[0], array[1]) #dp_table의 두 번째 요소는 그 전에꺼와 array[1], 둘 중에 하나를 택해야 함.(연속으로 된 것 둘다 못취함)\n",
    "for i in range(2, n): #2부터 n-1까지 range\n",
    "    #바로 앞에 있는 것 / 전전에 있는 것과 현재 array의 합, 둘 중에 큰 것을 택해서 dp_table에 넣는다(나란히 있는 것은 합하는 것이 불가)\n",
    "    dp_table[i] = max(dp_table[i-1], dp_table[i-2] + array[i]) \n",
    "    \n",
    "print(dp_table[n-1])"
   ]
  },
  {
   "cell_type": "markdown",
   "metadata": {},
   "source": [
    "### 3. 바닥공사\n",
    "- 가로 N, 세로 2 (N*2)인 직사각형 형태의 얇은 바닥을 1*2, 2*1, 2*2 형태의 직사각형 덮개로 덮으려 한다. (1<= N <= 1000) 그 경우의 수를 796796으로 나눈 나머지를 출력하라.\n",
    "- 타일링 유형은 다이나믹 프로그래밍에서 자주 출제된다.\n",
    "- \"~로 나눈 나머지\"는 결과값이 커질 경우 값을 줄이기 위해 사용되는 것"
   ]
  },
  {
   "cell_type": "markdown",
   "metadata": {},
   "source": [
    "### 점화식: A i = A i-1 + (A i-2) * 2\n",
    "- i-1번째까지 덮개로 채워져 있다면, 2*1의 덮개를 채우는 하나의 경우만 존재한다.\n",
    "- i-2번째까지 덮개로 덮여 있다면 1*2 2개 혹은 2*2 1개를 덮는 경우만 존재한다.(2가지) (2*1은 i-1번째 경우에 포함되므로 제외한다.)\n",
    "- 이 두 가지 경우의 수를 더한 것이 i=n일때 총 경우의 수이다."
   ]
  },
  {
   "cell_type": "code",
   "execution_count": 12,
   "metadata": {},
   "outputs": [
    {
     "name": "stdout",
     "output_type": "stream",
     "text": [
      "4\n",
      "11\n"
     ]
    }
   ],
   "source": [
    "n = int(input())\n",
    "\n",
    "d = [0] * 1001\n",
    "d[1] = 1\n",
    "d[2] = 3\n",
    "for i in range(3, n+1):\n",
    "    d[i] = (d[i-1] + 2*d[i-2]) % 7967964\n",
    "print(d[n])"
   ]
  },
  {
   "cell_type": "markdown",
   "metadata": {},
   "source": [
    "결국 i=1, i=2일 때를 계속 붙여가는 느낌."
   ]
  },
  {
   "cell_type": "markdown",
   "metadata": {},
   "source": [
    "### 4. 효율적인 화폐 구성\n",
    "- N가지의 화폐 종류가 있을 때, 이 화폐들의 개수를 최소한으로 사용하여 그 합이 M원이 되도록 하려고 할 때, 최소한으로 필요한 화폐의 개수를 출력한다. 단, 불가능할 경우에는 -1을 출력한다."
   ]
  },
  {
   "cell_type": "markdown",
   "metadata": {},
   "source": [
    "### 점화식\n",
    "### A i-k를 만드는 방법이 존재하는 경우: A i = MIN(A i,   A i-k +1)\n",
    "### A i-k를 만드는 방법이 존재하지 않는 경우: A i = 10001(무한대의 수)\n",
    "- k가 화폐 단위일때. i=5, 존재하는 화폐종류=2,3\n",
    "- A5 = min(A 5, A 5-2 +1 ) ..(k=2) A5 = A 3(5-2) + 1(2원)과 같다\n",
    "- A5 = min(A 5, A 5-3 +1 ) ..(k=3) A5 = A 2(5-3) + 1(3원)과 같다."
   ]
  },
  {
   "cell_type": "markdown",
   "metadata": {},
   "source": [
    "n = 2(2원, 3원), m = 15\n",
    "d    : 0 1 2 3 4 5 6 7 8 9 ..\n",
    "out  : 0 1 1 2 2 2 3 3 3 4 ..\n"
   ]
  },
  {
   "cell_type": "code",
   "execution_count": 3,
   "metadata": {},
   "outputs": [
    {
     "name": "stdout",
     "output_type": "stream",
     "text": [
      "2 15\n",
      "2\n",
      "3\n",
      "3333 [0, 0, 1, 1, 2, 0, 2, 0, 4, 3, 5, 0, 4, 0, 7, 5]\n",
      "5\n",
      "[2, 2]\n",
      "7\n",
      "[3, 3]\n",
      "11\n",
      "[4, 5]\n",
      "13\n",
      "[5, 6]\n",
      "[0, 0, 1, 1, 2, 2, 2, 3, 4, 3, 5, 4, 4, 5, 7, 5]\n",
      "5\n"
     ]
    }
   ],
   "source": [
    "#내가 짠 코드 --> 8, 10, 13의 경우 정답이 아니게 나온다.\n",
    "\n",
    "n, m = map(int, input().split())\n",
    "money = []\n",
    "for _ in range(n):\n",
    "    money.append(int(input()))\n",
    "    \n",
    "d = [0] * (m+1)\n",
    "\n",
    "for mon in money: #화폐 단위를 기준으로\n",
    "    for i in range(mon, m+1, mon):\n",
    "        d[i] = d[i-mon] + 1 #한 화폐단위의 배수들은 이전 배수에 필요한 동전의 개수에 +1\n",
    "print(\"3333\", d)\n",
    "\n",
    "for i in range(2, len(d)):\n",
    "    if d[i] == 0: #0인 것들을 처리\n",
    "        print(i)\n",
    "        comp = []\n",
    "        for mon in money:\n",
    "            comp.append(d[i-mon] + 1)\n",
    "        d[i] = min(comp)\n",
    "        print(comp)\n",
    "\n",
    "        \n",
    "        \n",
    "print(d)\n",
    "res = d[m]\n",
    "\n",
    "if res == 0:\n",
    "    print(-1)\n",
    "else:\n",
    "    print(res)\n"
   ]
  },
  {
   "cell_type": "code",
   "execution_count": 13,
   "metadata": {},
   "outputs": [
    {
     "name": "stdout",
     "output_type": "stream",
     "text": [
      "2 15\n",
      "2\n",
      "3\n",
      "[0, 10001, 1, 1, 2, 2, 2, 3, 3, 3, 4, 4, 4, 5, 5, 5]\n",
      "5\n"
     ]
    }
   ],
   "source": [
    "#정답코드\n",
    "n, m = map(int, input().split())\n",
    "# list_n은 화폐 종류를 저장하는 리스트\n",
    "list_n = []\n",
    "# 화폐 종류 입력받기\n",
    "for i in range(n):\n",
    "    list_n.append(int(input()))\n",
    "\n",
    "# [10001]은 무한대(할수 없는 값)라고 생각하면 된다\n",
    "d = [10001] * (m+1)\n",
    "# d[x]에 저장되는 값은 x원을 만들기 위한 최소한의 화폐 개수이다.\n",
    "d[0] = 0\n",
    "\n",
    "# 화폐 종류를 하나 정하고\n",
    "for i in range(n):\n",
    "    # 하나씩 확인하며 d의 값을 확인하고 저장\n",
    "    for j in range(list_n[i], m+1):\n",
    "        # (i-k)원을 만드는 방법이 존재하는 경우\n",
    "        if d[j - list_n[i]] != 10001:\n",
    "            d[j] = min(d[j],d[j - list_n[i]] + 1) #list_n[i] = k\n",
    "print(d)\n",
    "if d[m] == 10001:\n",
    "    print('-1')\n",
    "else:\n",
    "    print(d[m])"
   ]
  },
  {
   "cell_type": "markdown",
   "metadata": {},
   "source": [
    "### 기출문제\n",
    "### 35. 못생긴 수"
   ]
  },
  {
   "cell_type": "markdown",
   "metadata": {},
   "source": [
    "- 못생긴 수란 2, 3, 5만을 소인수로 가진 수이다. 1은 못생긴 수라 가정한다.\n",
    "- n번째에 존재하는 못생긴 수를 찾아라. (1<= n <= 1000)\n",
    "- 1, 2, 3, 4, 5, 6. 8, 9, 10, 12, 15..\n"
   ]
  },
  {
   "cell_type": "markdown",
   "metadata": {},
   "source": [
    "- 못생긴 수에 2, 3, 5를 곱한 수 또한 못생긴 수가 된다.\n",
    "- 2의 배수 변수, 3의 배수 변수, 5의 배수 변수에 대하여 가장 작은 못생긴 수부터 오름차순으로 하나씩 확인하면서, 각 배수를 곱한 값도 못생긴 수가 될 수 있도록 처리한다.\n",
    "\n",
    "- 못생긴 수 1 -> 1*2 = 2\n",
    "- 1 * 3 = 3\n",
    "- 1 * 5 = 5\n",
    "- \n",
    "- 못생긴 수 2 * 2 = 4\n",
    "- 2 * 3 = 6\n",
    "- 2 * 5 = 10"
   ]
  },
  {
   "cell_type": "code",
   "execution_count": null,
   "metadata": {},
   "outputs": [],
   "source": [
    "#실패: 2,3,5를 제외한 숫자들을 소인수로 가질 때가 포함됨.\n",
    "n = int(input())\n",
    "cnt = 1\n",
    "num = 2\n",
    "d = [1]\n",
    "while cnt != n:\n",
    "    if num % 2 == 0 and num %3 == 0 and num%5 == 0 :\n",
    "        d.append(num)\n",
    "        cnt += 1\n",
    "    elif num % 2 == 0 and num % 3 == 0:\n",
    "        d.append(num)\n",
    "        cnt += 1\n",
    "    elif num % 2 == 0 and num % 5 == 0:\n",
    "        d.append(num)\n",
    "        cnt += 1\n",
    "    elif num % 3 == 0 and num % 5 == 0:\n",
    "        d.append(num)\n",
    "        cnt += 1\n",
    "    elif num %2 == 0:\n",
    "        d.append(num)\n",
    "        cnt += 1\n",
    "    elif num %3 == 0:\n",
    "        d.append(num)\n",
    "        cnt += 1\n",
    "    elif num %5 == 0:\n",
    "        d.append(num)\n",
    "        cnt += 1\n",
    "\n",
    "    a = num / 2\n",
    "    if a % 2 != 0 or a %3 != 0 or a%5 != 0:\n",
    "        pass\n",
    "    a = num / 3\n",
    "    if a % 2 != 0 or a %3 != 0 or a%5 != 0:\n",
    "        pass\n",
    "    a = num / 5\n",
    "    if a % 2 != 0 or a %3 != 0 or a%5 != 0:\n",
    "        pass\n",
    "    d.append(num)\n",
    "    num += 1\n",
    "    print(d)\n",
    "    if len(d) == n:\n",
    "        print(num)\n",
    "        break\n",
    "        \n",
    "        \n",
    "        \n",
    "def soinsu(x):\n",
    "    target = x\n",
    "    i = 2\n",
    "    li = {1}\n",
    "    while  i <= target:\n",
    "        if target % i == 0:\n",
    "            li.add(i)\n",
    "            i += 1\n",
    "        else:\n",
    "            i += 1\n",
    "    return li\n",
    "\n",
    "\n",
    "n = int(input())\n",
    "cnt = 1\n",
    "num = 2\n",
    "\n",
    "b = {1, 2, 3, 5}\n",
    "while cnt <= n:\n",
    "    a = soinsu(num)\n",
    "    print(a)\n",
    "    if len(a-b) != 0:\n",
    "        print(\"!!!\")\n",
    "        continue\n",
    "    else:\n",
    "        cnt += 1\n",
    "        num += 1\n",
    "        if cnt == n:\n",
    "            print(num-1)\n",
    "            break        \n",
    "        \n",
    "# 집합으로 뺄 생각도 했음.. {1, 7} - {1, 2, 3, 5} (1, 2, 3, 5 제외한 수가 있으면 안되므로.\n",
    "# 근데 12이면, 12가 남으니까 집합으로 사용해도 쓸모가 없음)\n",
    "# 그래서 소인수분해 한 수만 추출이 가능한가? 소인수 분해 파이썬 찾아봤는데 어려워서 포기\n",
    "# 동적 프로그래밍 사용 안한 것.\n",
    "# 이렇게 생각하기 보다는 2, 3, 5의 배수가 못생긴 수가 되고, 그 못생긴 수에 못생긴 수를 곱하면\n",
    "# 무조건 못생긴 수가 된다는 패턴을 알면 된다."
   ]
  },
  {
   "cell_type": "code",
   "execution_count": 17,
   "metadata": {},
   "outputs": [
    {
     "name": "stdout",
     "output_type": "stream",
     "text": [
      "10\n",
      "i2:  1 next2:  4\n",
      "0\n"
     ]
    }
   ],
   "source": [
    "n = int(input())\n",
    "ugly = [0] * n #dp 테이블 작성\n",
    "ugly[0] = 1 #dp 테이블의 첫 번째 요소는 1이다. 1은 무조건 첫 번째로 지정된 못생긴 수 이므로.\n",
    "\n",
    "i2 = i3 = i5 = 0 #i2, i3, i5 초기화\n",
    "next2, next3, next5 = 2, 3, 5 #next2, next3, next5 초기화\n",
    "\n",
    "#1부터 n까지의 못생긴 수를 찾기\n",
    "for l in range(1, n):\n",
    "    ugly[1] = min(next2, next3, next5)\n",
    "    if ugly[l] == next2:\n",
    "        i2 += 1\n",
    "        next2 = ugly[i2] * 2\n",
    "        print(\"i2: \", i2, \"next2: \", next2)\n",
    "    if ugly[l] == next3:\n",
    "        i3 += 1\n",
    "        next3 = ugly[i3] * 3\n",
    "        print(\"i3: \", i3, \"next3: \", next3)\n",
    "    \n",
    "    if ugly[l] == next5:\n",
    "        i5 += 1\n",
    "        next5 = ugly[i5] * 5\n",
    "        print(\"i5: \", i5, \"next5: \", next5)\n",
    "\n",
    "print(ugly[n-1])"
   ]
  },
  {
   "cell_type": "markdown",
   "metadata": {},
   "source": [
    "생각해야 할 변수가 너무 많아서 어려움..\n"
   ]
  },
  {
   "cell_type": "markdown",
   "metadata": {},
   "source": [
    "### 36. 편집거리"
   ]
  },
  {
   "cell_type": "code",
   "execution_count": 20,
   "metadata": {},
   "outputs": [
    {
     "name": "stdout",
     "output_type": "stream",
     "text": [
      "sunday\n",
      "saturday\n",
      "3\n"
     ]
    }
   ],
   "source": [
    "\"\"\"\n",
    "2차원 dp테이블 사용 \n",
    "1. 두 문자열이 서로 같다면, 왼쪽 위에 해당하는 수(이전 문자까지의 최소 편집거리)\n",
    "2. 두 문자가 다른 경우, \n",
    "\"\"\"\n",
    "def edit_dist(str1, str2):\n",
    "    n = len(str1)\n",
    "    m = len(str2)\n",
    "    \n",
    "    #다이나믹 프로그래밍을 위한 2차원 dp테이블 초기화\n",
    "    dp = [[0] * (m+1) for _ in range(n+1)]\n",
    "    \n",
    "    #dp 테이블 초기 설정\n",
    "    for i in range(1, n+1):\n",
    "        dp[i][0] = i\n",
    "    for j in range(1, m+1):\n",
    "        dp[0][j] = j\n",
    "    \n",
    "    #최소 편집거리 계산\n",
    "    for i in range(1, n+1):\n",
    "        for j in range(1, m+1):\n",
    "            #문자가 같다면, 왼쪽 위에 해당하는 수를 그대로 대입\n",
    "            if str1[i-1] == str2[j-1]:\n",
    "                dp[i][j] = dp[i-1][j-1]\n",
    "            #문자가 다르다면, 3가지 경우 중에서 최솟값 찾기\n",
    "            else:\n",
    "                dp[i][j] = 1 + min(dp[i][j-1], dp[i-1][j], dp[i-1][j-1])\n",
    "    return dp[n][m]\n",
    "\n",
    "\n",
    "str1 = input()\n",
    "str2 = input()\n",
    "\n",
    "print(edit_dist(str1, str2))"
   ]
  },
  {
   "cell_type": "code",
   "execution_count": null,
   "metadata": {},
   "outputs": [],
   "source": []
  },
  {
   "cell_type": "code",
   "execution_count": null,
   "metadata": {},
   "outputs": [],
   "source": []
  }
 ],
 "metadata": {
  "kernelspec": {
   "display_name": "Python 3",
   "language": "python",
   "name": "python3"
  },
  "language_info": {
   "codemirror_mode": {
    "name": "ipython",
    "version": 3
   },
   "file_extension": ".py",
   "mimetype": "text/x-python",
   "name": "python",
   "nbconvert_exporter": "python",
   "pygments_lexer": "ipython3",
   "version": "3.8.5"
  }
 },
 "nbformat": 4,
 "nbformat_minor": 4
}
