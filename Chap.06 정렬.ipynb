{
 "cells": [
  {
   "cell_type": "code",
   "execution_count": 3,
   "metadata": {},
   "outputs": [
    {
     "name": "stdout",
     "output_type": "stream",
     "text": [
      "[0, 1, 2, 3, 4, 5, 6, 7, 8, 9]\n"
     ]
    }
   ],
   "source": [
    "# 선택 정렬\n",
    "\n",
    "array = [7, 5, 9, 0, 3, 1, 6, 2, 4, 8]\n",
    "\n",
    "for i in range(0, len(array)):# i가 숫자를 의미하는 것이 아닌 자리 위치를 의미하는 것임.\n",
    "  min_index = i\n",
    "  for j in range(i +1, len(array)):\n",
    "    if array[min_index] > array[j]:\n",
    "      min_index = j\n",
    "  array[i], array[min_index] = array[min_index], array[i]\n",
    "\n",
    "print(array)\n",
    "\n",
    "# 스와프 방법은 파이썬의 능력!\n",
    "# \n",
    "# 이게 한 과정 이것을 계속 반복해서 정렬을 해주는 방식\n",
    "# 모든 숫자를 하나하나 비교하기 때문에 비효율적 \n",
    "# but 문제에 가장 작은 데이터를 찾는 일이 시험에 많기 때문에 선택정렬 중요"
   ]
  },
  {
   "cell_type": "code",
   "execution_count": 4,
   "metadata": {},
   "outputs": [
    {
     "name": "stdout",
     "output_type": "stream",
     "text": [
      "[0, 1, 2, 3, 4, 5, 6, 7, 8, 9]\n"
     ]
    }
   ],
   "source": [
    "# 삽입 정렬\n",
    "\n",
    "array = [7, 5, 9, 0, 3, 1, 6, 2, 4, 8]\n",
    "\n",
    "for i in range(1, len(array)):\n",
    "  for j in range(i, 0, -1): # 숫자 0이 아님, 위치 순번을 말하는거임 \n",
    "    if array[j] < array[j - 1]: # 자기 보다 왼쪽에 있는 숫자들을 하나의 식으로 비교 가능!\n",
    "      array[j], array[j -1] = array[j -1], array[j] #스왑 코딩\n",
    "    else:\n",
    "      break\n",
    "print(array)\n",
    "\n",
    "# i = 5로 시작\n",
    "# j는 5의 왼쪽에 있는 유일한 숫자 따라서 7\n",
    "# j = 5, j -1 = 7\n",
    "# 스왑 코딩으로 자리를 바꿔줌\n",
    "# array = 5 7 9 0 3 1 6 2 4 8 가 됨\n",
    "# 그렇게 쭉 하다가 i가 4번째 자리에 왔을 때 i = 0\n",
    "# 0의 왼쪽에 5 7 9가 위치함\n",
    "# ()5()7()9() 0이 들어 갈 수 있는 위치가 4곳이 있음\n",
    "# for j in range(i, 0, -1): \n",
    "#     if array[j] < array[j - 1]:\n",
    "#     else:\n",
    "#         break\n",
    "# 이 식으로 선택정렬과 같이 숫자 하나하나를 비교 하며 이동하는 것이 아니라 원하는 자리에 한방에 '삽입'이 가능!\n",
    "# 따라서 array = 0 5 7 9 3 1 6 2 4 8로 정렬 됨\n",
    "# 삽입 정렬은 조금이라도 정리가 되어 있다면 극강의 효율을 발휘함"
   ]
  },
  {
   "cell_type": "code",
   "execution_count": null,
   "metadata": {},
   "outputs": [],
   "source": [
    "# 퀵 정렬\n",
    "\n",
    "array = [5, 7, 9, 0, 3, 1, 6, 2, 4, 8]\n",
    "\n",
    "def quick_sort(array, start, end):\n",
    "    if start >= end:\n",
    "        return\n",
    "    pivot = start\n",
    "    left = start + 1\n",
    "    right = end\n",
    "    while left <= right:\n",
    "        while left <= end and array[left] <= array[pivot]:\n",
    "            \n",
    "        "
   ]
  },
  {
   "cell_type": "code",
   "execution_count": 4,
   "metadata": {},
   "outputs": [
    {
     "name": "stdout",
     "output_type": "stream",
     "text": [
      "0 0 1 1 2 2 3 4 5 5 6 7 8 9 9 "
     ]
    }
   ],
   "source": [
    "#계수 정렬, 인덱스와 값을 이용한 천재적인 알고리즘\n",
    "\n",
    "array = [7, 5, 9, 0, 3, 1, 6, 2, 9, 1, 4, 8, 0, 5, 2]\n",
    "count = [0] * (max(array) + 1) #장바구니 만들기\n",
    "\n",
    "for i in range(len(array)):\n",
    "    count[array[i]] += 1 # 장바구니 완성, i와 i가 들어갈 장바구니 위치가 같다.\n",
    "    \n",
    "for i in range(len(count)): # i는 인덱스니까 0~9\n",
    "    for j in range(count[i]): #i의 값\n",
    "        print(i, end = ' ')  #i의 인덱스가 i의 값만큼 반복!, 이걸 만든 사람은 천재\n",
    "\n",
    "# 아주 천재적인 정렬 알고리즘이다. 아주 간편한 알고리즘이지만 여기 문제만 봐도 알 수 있듯이 계수 정렬의 단점이 한번에 보인다. \n",
    "# 예를 들어 900부터 1000까지의 숫자를 정렬할 때 계수 정렬을 사용하면 계수 정렬의 장바구니에는 0부터 1000까지의 리스트가 필요하다.\n",
    "# 필요 없는 0부터 899까지의 장바구니가 존재한다. 그럼에도 불구하고 천재적이다    \n",
    "\n"
   ]
  },
  {
   "cell_type": "code",
   "execution_count": 5,
   "metadata": {},
   "outputs": [
    {
     "name": "stdout",
     "output_type": "stream",
     "text": [
      "3\n",
      "15\n",
      "27\n",
      "12\n",
      "27 15 12 "
     ]
    }
   ],
   "source": [
    "# 실전문제 위에서 아래로위에서 아래로\n",
    "\n",
    "n = int(input())\n",
    "\n",
    "array = []\n",
    "for i in range(n):\n",
    "  array.append(int(input()))\n",
    "\n",
    "array = sorted(array, reverse = True)\n",
    "\n",
    "for i in array:\n",
    "#  print(i, end=' ')"
   ]
  },
  {
   "cell_type": "code",
   "execution_count": 10,
   "metadata": {},
   "outputs": [
    {
     "name": "stdout",
     "output_type": "stream",
     "text": [
      "2\n",
      "홍길동 95\n",
      "이순신 7\n",
      "이순신 홍길동 "
     ]
    }
   ],
   "source": [
    "# 실전문제 성적이 낮은 순\n",
    "\n",
    "n = int(input())\n",
    "array = []\n",
    "\n",
    "for i in range(n):\n",
    "  input_data = input().split()\n",
    "  array.append((input_data[0], int(input_data[1])))\n",
    "\n",
    "array = sorted(array, key=lambda student: student[1]) # 여기가 어려워요 ㅜㅜ\n",
    "\n",
    "for student in array:\n",
    "  print(student[0], end=' ')"
   ]
  },
  {
   "cell_type": "code",
   "execution_count": 14,
   "metadata": {},
   "outputs": [
    {
     "name": "stdout",
     "output_type": "stream",
     "text": [
      "5 3 \n",
      "1 2 5 4 3 \n",
      "5 5 6 6 5\n",
      "26\n"
     ]
    }
   ],
   "source": [
    "# 실전문제 두 배열의 원소 교체 \n",
    "\n",
    "n,k = map(int, input().split())\n",
    "a = list(map(int, input().split()))\n",
    "b = list(map(int, input().split()))\n",
    "\n",
    "a.sort()\n",
    "b.sort(reverse = True)\n",
    "\n",
    "for i in range(k):\n",
    "    if a[i] < b[i]:\n",
    "        a[i], b[i] = b[i],a[i]\n",
    "        \n",
    "    else:\n",
    "        break\n",
    "\n",
    "print(sum(a))"
   ]
  },
  {
   "cell_type": "code",
   "execution_count": 15,
   "metadata": {},
   "outputs": [],
   "source": [
    "#국영수\n",
    "\n"
   ]
  },
  {
   "cell_type": "code",
   "execution_count": 1,
   "metadata": {},
   "outputs": [
    {
     "name": "stdout",
     "output_type": "stream",
     "text": [
      "4\n",
      "5 1 7 9\n",
      "5\n"
     ]
    }
   ],
   "source": [
    "# 안테나\n",
    "\n",
    "n = int(input())\n",
    "data = list(map(int, input().split()))\n",
    "data.sort()\n",
    "\n",
    "print(data[(n-1) // 2])"
   ]
  },
  {
   "cell_type": "code",
   "execution_count": null,
   "metadata": {},
   "outputs": [],
   "source": [
    "# 실패율\n",
    "\n"
   ]
  }
 ],
 "metadata": {
  "kernelspec": {
   "display_name": "Python 3",
   "language": "python",
   "name": "python3"
  },
  "language_info": {
   "codemirror_mode": {
    "name": "ipython",
    "version": 3
   },
   "file_extension": ".py",
   "mimetype": "text/x-python",
   "name": "python",
   "nbconvert_exporter": "python",
   "pygments_lexer": "ipython3",
   "version": "3.8.5"
  }
 },
 "nbformat": 4,
 "nbformat_minor": 4
}
