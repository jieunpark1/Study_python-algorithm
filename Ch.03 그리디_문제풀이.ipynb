{
 "cells": [
  {
   "cell_type": "markdown",
   "metadata": {},
   "source": [
    "# Ch. 03 그리디_문제풀이"
   ]
  },
  {
   "cell_type": "markdown",
   "metadata": {},
   "source": [
    "## 거스름돈\n",
    "- 점원이 N원을 거슬러 줄 때의 동전의 최소 개수를 구하라.\n",
    "- 거스름돈으로 사용할 돈은 500원, 100원, 50원, 10원\n",
    "- Key: 동전의 개수가 최소가 되려면, 돈의 단위가 큰 것부터 돈을 거슬러 주면 된다.\n",
    "- 큰 단위가 항상 작은 단위의 배수이므로 큰 단위를 먼저 사용해도 정답이 된다. 만약 그렇지 않다면 해당되지 않는다. ( n=800이고 400원 동전이 추가되는 상황이라면 동전4개(500,100 * 3)를 사용하는 것보다 동전 2개(400원 2개)의 경우가 더 최적이므로 그리디로 푼다면 정답이 될 수 없음)\n",
    "- 백준 5585번 거스름돈: https://www.acmicpc.net/problem/5585"
   ]
  },
  {
   "cell_type": "code",
   "execution_count": 3,
   "metadata": {},
   "outputs": [
    {
     "name": "stdout",
     "output_type": "stream",
     "text": [
      "Result n: 250\n",
      "Result n: 50\n",
      "Result n: 0\n",
      "Result n: 0\n",
      "5\n"
     ]
    }
   ],
   "source": [
    "#답안 예시\n",
    "n = 1250\n",
    "num = 0\n",
    "\n",
    "coin_types = [500, 100, 50, 10]\n",
    "\n",
    "for coin in coin_types:\n",
    "    num += n // coin\n",
    "    n %= coin\n",
    "    print(\"Result n:\", n)\n",
    "    \n",
    "print(num)\n",
    "    "
   ]
  },
  {
   "cell_type": "code",
   "execution_count": 25,
   "metadata": {},
   "outputs": [
    {
     "name": "stdout",
     "output_type": "stream",
     "text": [
      "380\n",
      "몫:  1\n",
      "남은 돈: 120\n",
      "cnt: 1\n",
      "몫:  1\n",
      "남은 돈: 20\n",
      "cnt: 2\n",
      "몫:  0\n",
      "남은 돈: 20\n",
      "cnt: 2\n",
      "몫:  2\n",
      "남은 돈: 0\n",
      "cnt: 4\n",
      "4\n"
     ]
    }
   ],
   "source": [
    "#백준 5585\n",
    "customer = int(input())\n",
    "money = [500, 100, 50, 10, 5, 1]\n",
    "\n",
    "i = 1000 - customer\n",
    "cnt = 0\n",
    "for j in money:\n",
    "    if i == 0:\n",
    "        break\n",
    "    temp = i//j\n",
    "    print(\"몫: \", temp)\n",
    "    i -= temp * j\n",
    "    print(\"남은 돈:\", i)\n",
    "    cnt += temp\n",
    "    print(\"cnt:\", cnt)\n",
    "print(cnt)\n",
    "\n",
    "\n",
    "#다른풀이\n",
    "n = 1000 - int(input())\n",
    "d = [500,100,50,10,5,1]\n",
    "ret = 0\n",
    "for i in d:\n",
    "    ret += n // i #temp(잔돈의 개수)\n",
    "    n %= i  #n을 i로 나눈 나머지로 갱신 \n",
    "    \n",
    "print(ret)"
   ]
  },
  {
   "cell_type": "markdown",
   "metadata": {},
   "source": [
    "## 큰 수의 법칙\n",
    "- 여러 수로 이루어진 배열이 있을 때, 주어진 수들을 m번 더하여 가장 큰 수를 만드는 법칙. 단 특정 인덱스에 해당하는 수가 연속해서 k번을 초과하여 더해질 수는 없다. (서로 다른 인덱스에 해당하는 수가 같으면 다른 것으로 간주)\n",
    "- eg) 2, 4, 5, 4, 6, m=8, k=3 -> 6+6+6+5+6+6+6+5 = 46 (m=8이므로 총 8번의 연산이 진행되며, 가장 큰 수인 6이 연속으로 최대 3번 연속 더해질 수 있다.)\n",
    "- eg) 3, 4, 3, 4, 3, m=7, k=2 -> 4+4 + 4+4+ 4+4+ 4 = 27( 가장 큰 수 4가 배열에 2개 존재하므로, 최대 2번까지 4가 연속으로 더해질 수 있으며, 또 다른 4가 2번 더해지고, 이것이 반복되면 28이 계산된다)\n",
    "\n",
    "- 2<=n<=1000, 1<=m<=10,000, 1<=k<=10,000\n",
    "- k<= m\n",
    "\n"
   ]
  },
  {
   "cell_type": "code",
   "execution_count": 16,
   "metadata": {},
   "outputs": [
    {
     "name": "stdout",
     "output_type": "stream",
     "text": [
      "5 7 2\n",
      "3 4 3 4 3\n",
      "28\n"
     ]
    }
   ],
   "source": [
    "#박지은\n",
    "n, m, k = map(int, input().split())\n",
    "n_list = list(map(int, input().split()))\n",
    "res = 0\n",
    "\n",
    "n_list.sort(reverse=True)\n",
    "n_max = n_list[0]\n",
    "res += m // k * (k * n_max)  #최대 k번 까지 연속해서 덧셈이 가능하므로, k * 가장큰수를 하고, m에서 k로 나눈 몫 만큼 (k x n_max)를 곱할 수 있다.\n",
    "res += m % k * n_list[1]     #n_list의 두 번째로 큰 수에 m에서 k로 나눈 나머지를 곱한다.\n",
    "\n",
    "print(res)\n",
    "\n"
   ]
  },
  {
   "cell_type": "code",
   "execution_count": 17,
   "metadata": {},
   "outputs": [
    {
     "name": "stdout",
     "output_type": "stream",
     "text": [
      "5 7 2\n",
      "3 4 3 4 3 \n",
      "28\n"
     ]
    }
   ],
   "source": [
    "#답안 예시\n",
    "n, m, k = map(int, input().split())\n",
    "data = list(map(int, input().split()))\n",
    "\n",
    "data.sort()\n",
    "first = data[n-1]\n",
    "second = data[n-2]\n",
    "\n",
    "#가장 큰 수가 더해지는 횟수 계산\n",
    "count = int(m / (k+1)) * k  #반복되는 수열 (k+1) (6, 6, 6, 5)-> m을 (k+1)로 나눈 몫이 수열이 반복되는 횟수가 된다.\n",
    "count += m % (k+1) # 그 나머지\n",
    "\n",
    "result = 0\n",
    "result += (count) * first #가장 큰 수 더하기\n",
    "result += (m-count) * second  #두 번째로 큰 수 더하기\n",
    "\n",
    "print(result)    "
   ]
  },
  {
   "cell_type": "code",
   "execution_count": 18,
   "metadata": {},
   "outputs": [
    {
     "name": "stdout",
     "output_type": "stream",
     "text": [
      "5 7 2\n",
      "3 4 3 4 3\n",
      "28\n"
     ]
    }
   ],
   "source": [
    "#답안 예시\n",
    "n, m, k = map(int, input().split())\n",
    "data = list(map(int, input().split()))\n",
    "\n",
    "data.sort()\n",
    "first = data[n-1]\n",
    "second = data[n-2]\n",
    "\n",
    "result = 0\n",
    "\n",
    "while True:\n",
    "    for i in range(k):\n",
    "        if m == 0:\n",
    "            break\n",
    "        result += first  #가장 큰 수를 m번 더하기 위해 m을 하나씩 차감해서 m=0이 되면 break하고 두 번쨰 큰 수를 더함\n",
    "        m -=1\n",
    "    if m == 0:\n",
    "        break\n",
    "    result += second\n",
    "    m -= 1\n",
    "print(result)"
   ]
  },
  {
   "cell_type": "markdown",
   "metadata": {},
   "source": [
    "## 숫자 카드 게임\n",
    "- 여러 개의 숫자 카드 중에서 가장 높은 숫자가 쓰인 카드 한 장을 뽑는 게임\n",
    "- 1. 카드들이 n x m 형태로 놓여있다. (n은 행이 개수, m은 열의 개수)\n",
    "- 2. 뽑고자 하는 카드가 포함되어 있는 행을 선택한다.\n",
    "- 3. 그음 선택된 행에 포함된 카드들 중 가장 숫자가 낮은 카드를 뽑아야 한다.\n",
    "- 4. 따라서 처음에 카드를 골라낼 행을 선택할 떄, 이후에 해당 행에서 가장 숫자가 낮은 카드를 뽑을 것을 고려하여 최종적으로 가장 높은 숫자의 카드를 뽑을 수 있도록 전략을 세워야 한다.\n",
    "- 1<= n, m <= 100, 자연수\n",
    "- 각 카드에 적힌 숫자는 1이상 10,000이하의 자연수\n",
    "\n"
   ]
  },
  {
   "cell_type": "code",
   "execution_count": 14,
   "metadata": {},
   "outputs": [
    {
     "name": "stdout",
     "output_type": "stream",
     "text": [
      "3 3\n",
      "3 1 2\n",
      "4 1 4\n",
      "2 2 2\n",
      "3\n"
     ]
    }
   ],
   "source": [
    "#답안 예시\n",
    "# 각 행에서 가장 숫자가 낮은 카드를 뽑은 후, 그 중에서 가장 큰 수를 뽑는다.\n",
    "\n",
    "n, m = map(int, input().split())\n",
    "min_box = []\n",
    "result = 0\n",
    "\n",
    "for _ in range(n):\n",
    "    cards_map = list(map(int, input().split()))\n",
    "    min_val = min(cards_map) \n",
    "    result = max(result, min_val) #min_val이 list형태이기 때문에 list와 list끼리 비교해야 한다.\n",
    "print(result)\n",
    "\n",
    "\n",
    "        "
   ]
  },
  {
   "cell_type": "markdown",
   "metadata": {},
   "source": [
    "## 1이 될 때까지\n",
    "- 어떤 수 n이 1이 될 때까지 다음의 두 과정 중 하나를 반복적으로 선택하여 수행하려고 한다. 연산의 최소 횟수를 구하여라.\n",
    "- 1.n에서 1을 뺀다.\n",
    "- 2.n을 k로 나눈다. (n이 k로 나누어떨어질 때만 가능)\n",
    "- eg) n=17, k=4일 때, n-1 => 4로 2번 나누면 1이 된다. 따라서 최소 횟수는 3.\n",
    "- n과 k는 2보다 크고 100,000보다 작다. 모두 자연수로 주어진다. n은 k보다 항상 크거나 같다.\n"
   ]
  },
  {
   "cell_type": "code",
   "execution_count": 10,
   "metadata": {},
   "outputs": [
    {
     "name": "stdout",
     "output_type": "stream",
     "text": [
      "17 4\n",
      "3\n"
     ]
    }
   ],
   "source": [
    "#박지은\n",
    "n, k = map(int, input().split())\n",
    "cnt = 0\n",
    "while n != 1: #n이 1이 아닌 동안 계속 아래 코드를 수행한다.\n",
    "    while n % k != 0: #n이 k로 나누어떨어지지 않을 때, 1을 계속 뺀다.\n",
    "        n -= 1\n",
    "        cnt += 1\n",
    "        \n",
    "    n //= k\n",
    "    cnt += 1\n",
    "print(cnt)\n",
    "    \n",
    "    \n"
   ]
  },
  {
   "cell_type": "code",
   "execution_count": 9,
   "metadata": {},
   "outputs": [
    {
     "name": "stdout",
     "output_type": "stream",
     "text": [
      "17 4\n",
      "3\n"
     ]
    }
   ],
   "source": [
    "#답안예시(n이 100억 이상)\n",
    "n, k = map(int, input().split())\n",
    "result = 0\n",
    "\n",
    "while True:\n",
    "    target = (n//k) * k #n이 k로 나누어떨어지는 가장 가까운 수를 찾는다.\n",
    "    result += (n - target) #n에서 나누어떨어지는 가장 가까운수를 빼면 그 나머지가 남음(1씩 뺀것을 n-target만큼 반복한 것과 같다)\n",
    "    n = target #n을 target으로 변경\n",
    "    \n",
    "    #n이 k보다 작을 때(더 이상 나눌 수 없을 때) 반복문 탈출\n",
    "    if n<k: #n이 k보다 작을 시, 반복문을 탈출한다.\n",
    "        break\n",
    "    \n",
    "    result += 1\n",
    "    n //= k #n을 k로 나눈다\n",
    "\n",
    "#마지막으로 남은 수에 대하여 1씩 빼기 \n",
    "result += (n-1) #while문에서 n=1이면 그대로 빠져나와도 되는데 result가 1이 더해진 후 나오기 때문에 1번 중복되어서.\n",
    "print(result)"
   ]
  },
  {
   "cell_type": "markdown",
   "metadata": {},
   "source": [
    "## 모험가 길드\n",
    "- 모험가가 N명이 있는데, N명을 대상으로 공포도를 측정하였다. 한 그룹에 공포도가 x인 모험가는 반드시 x명 이상으로 구성된 모험가 그룹에 참여하여야 여행을 떠날 수 있도록 규정하였다. 최대 몇개의 모험가 그룹을 만들 수 있는가?\n",
    "- 단 몇 명의 모험가는 마을에 그대로 남아 있어도 되기 떄문에, 모든 모험가를 특정 그룹에 넣을 필요는 없다.\n",
    "- eg) n=5, 공포도: 2, 3, 1, 2, 2 => 1) 그룹1: 1,2,3 /  그룹2: 2, 2,\n",
    "- 2) 그룹1:1 / 그룹2: 2, 2 / 필요x: 2, 3\n",
    "- 1<=N<=100,000\n",
    "- 공포도의 값은 N이하의 자연수로 주어지며, 각 자연수는 공백으로 구분한다.\n",
    "\n"
   ]
  },
  {
   "cell_type": "code",
   "execution_count": null,
   "metadata": {},
   "outputs": [],
   "source": [
    "#장주이\n",
    "#모험가 수 입력\n",
    "num_adv = int(input())\n",
    "\n",
    "#공포도 입력\n",
    "fear = []\n",
    "for i in range(num_adv):\n",
    "    fear.append(int(input()))\n",
    "\n",
    "fear.sort(reverse=True) \n",
    "#공포도 내림차순 정렬\n",
    "max_group = 0\n",
    "while len(fear) > 0:\n",
    "    members = fear[0]   \n",
    "    #리스트의 첫번째에 위치한, 공포도가 가장 높은 사람의 공포도 = 필요그룹원\n",
    "    for i in range(members):\n",
    "        fear.pop(0)\n",
    "    max_group += 1\n",
    "\n",
    "print(max_group)"
   ]
  },
  {
   "cell_type": "code",
   "execution_count": 150,
   "metadata": {},
   "outputs": [
    {
     "name": "stdout",
     "output_type": "stream",
     "text": [
      "2\n"
     ]
    }
   ],
   "source": [
    "#박지은\n",
    "n = 5 #int(input())\n",
    "fright_level = [2, 3, 1, 2, 2]#list(map(int, input().split()))\n",
    "#모든 모험가를 필요로 하지는 않으므로, 가장 공포도가 큰 사람은 굳이 데리고 가지 않아도 된다.\n",
    "fright_level.sort()\n",
    "\n",
    "group_cnt = 0\n",
    "left_mem = n\n",
    "group = \"\"\n",
    "start = 0\n",
    "\n",
    "for i in tuple(fright_level): #공포도를 튜플로 만듦 (중복 안없어짐)\n",
    "    group = fright_level[start:start+i] #공포도 리스트에서 어떤 멤버를 데리고 갈 것인지를 group에 넣음(처음부터 i명만큼 데리고 간다)\n",
    "    if max(group) == i and left_mem >= i: #group의 가장 큰 값이 공포도 i이고, 팀을 꾸리고 남은 멤버의 수가 i이상이라면\n",
    "        left_mem -= i #left_mem에서 i명을 빼고, groupcoount을 1개 늘리고, start를 i인덱스 1개 더 뒤로 올긴다\n",
    "        group_cnt += 1\n",
    "        start = i+1\n",
    "    else: #이에 해당되지 않을 시 for문을 빠져나온다\n",
    "        break\n",
    "        \n",
    "print(group_cnt)\n",
    "    "
   ]
  },
  {
   "cell_type": "code",
   "execution_count": null,
   "metadata": {},
   "outputs": [],
   "source": [
    "#류미소\n",
    "#1) 모험가 길드\n",
    "\n",
    "n = int(input())\n",
    "fears = list(map(int,input().split()))\n",
    "group = 0\n",
    "ppl = 0\n",
    "\n",
    "sorted_fears = sorted(fears) #공포도가 낮은 친구부터 배정\n",
    "for fear in sorted_fears:\n",
    "    ppl+=1\n",
    "    if fear == ppl: #fear와 people수 같은 경우 그룹형성, people 0으로 초기화\n",
    "        group+=1\n",
    "        ppl = 0\n",
    "\n",
    "print(group)"
   ]
  },
  {
   "cell_type": "code",
   "execution_count": 2,
   "metadata": {},
   "outputs": [
    {
     "name": "stdout",
     "output_type": "stream",
     "text": [
      "1\n"
     ]
    }
   ],
   "source": [
    "#답안예시\n",
    "n = 5 #int(input())\n",
    "data = [2,3,1,2,2] #list(map(int, input().split()))\n",
    "data.sort()\n",
    "\n",
    "result = 0 #총 그룹 수\n",
    "count = 0 #현재 그룹에 포함된 모험가의 수\n",
    "\n",
    "for i in data: #낮은 공포도부터 확인\n",
    "    count =+ 1 #현재 그룹에 i 멤버 포함시키기\n",
    "    if count >=i: #현재 그룹에 포함된 모험가의 수가 공포도보다 높으면 그룹을 결성한다\n",
    "        result += 1 #총 그룹의 수 증가시키기\n",
    "        count = 0 #현재 그룹에 포함된 모험가의 수 초기화\n",
    "print(result) #총 그룹의 수"
   ]
  },
  {
   "cell_type": "markdown",
   "metadata": {},
   "source": [
    "## 곱하기 혹은 더하기\n",
    "- 0~9 숫자로 이루어진 문자열 S가 주어졌을 때, 왼쪽부터 오른쪽으로 하나씩 모든 숫자를 확인하며 숫자 사이에 \"x\" 혹은 \"+\" 연산자를 넣어 결과적으로 만들어질 수 있는 가장 큰 수를 구하는 프로그램을 작성하세요. (+ 보다 x가 먼저 연산되는 기존의 방식을 무시하고 무조건 왼쪽부터)\n",
    "- 만들어질 수 있는 가장 큰 수는 20억 이하의 정수\n",
    "- 1<= S 길이 <= 20\n",
    "- eg) 02984 => 0 + 2 x 9 x 8 = 576\n",
    "- 20984 = 2 + 0 x 9 x 8 x 4\n",
    "- 24042 = 2 x 4 + 0 x 4 x 2 = 64\n",
    "- 0123456 = 1 *2 = 2 / 1 +2 = 3\n",
    "00 = 9=0\n",
    "01 = 1\n",
    "02 = 2\n",
    "021 = 3 = 1*2=2 2+1=3"
   ]
  },
  {
   "cell_type": "code",
   "execution_count": 129,
   "metadata": {},
   "outputs": [
    {
     "name": "stdout",
     "output_type": "stream",
     "text": [
      "576\n"
     ]
    }
   ],
   "source": [
    "#박지은\n",
    "s = \"02984\"\n",
    "res = int(s[0])\n",
    "for i in range(1, len(s)):\n",
    "    if res == 0 or res == 1:\n",
    "        res += int(s[i])\n",
    "    elif res != 0 and s[i] == \"0\": #굳이 res != 0 기재 안해도 될것같다 res = 0 상황은 s[0]=0일때인데, 이미 앞에서 이 상황에 대해 적어놔서\n",
    "        pass\n",
    "    elif s[i] == \"1\":\n",
    "        res += 1\n",
    "    else:\n",
    "        res *= int(s[i])\n",
    "    #print(res)\n",
    "print(res)\n",
    "#결국 if , elif, else 합치면 답안예시와 똑같은 로직임."
   ]
  },
  {
   "cell_type": "code",
   "execution_count": null,
   "metadata": {},
   "outputs": [],
   "source": [
    "#류미소\n",
    "# 2) 곱하기 혹은 더하기\n",
    "\n",
    "data = input()\n",
    "result = int(data[0])\n",
    "\n",
    "for num in data[1:]:\n",
    "    if result>1:\n",
    "        if int(num)>1:\n",
    "            result*=int(num)\n",
    "        else:\n",
    "            result+=int(num)\n",
    "    else:\n",
    "        result+=int(num)"
   ]
  },
  {
   "cell_type": "code",
   "execution_count": null,
   "metadata": {},
   "outputs": [],
   "source": [
    "#장주이\n",
    "string = input()\n",
    "\n",
    "str_list = list(string)\n",
    "\n",
    "num = 0\n",
    "for i in str_list:\n",
    "    j = int(i)\n",
    "    if (num * j) > (num + j):\n",
    "        num *= j\n",
    "    else:\n",
    "        num += j\n",
    "\n",
    "print(num)"
   ]
  },
  {
   "cell_type": "code",
   "execution_count": null,
   "metadata": {},
   "outputs": [],
   "source": [
    "#답안예시\n",
    "data = input()\n",
    "result = int(data[0])\n",
    "for i in range(1, len(data)):\n",
    "    # 두 수 중에서 하나라도 0 혹은 1인 경우, 곱하지 말고 더하기 연산을 수행한다.\n",
    "    num = int(data[i])\n",
    "    if num<1 or result <=1:\n",
    "        result += num\n",
    "    else:\n",
    "        result *= num\n",
    "print(result)"
   ]
  },
  {
   "cell_type": "code",
   "execution_count": 107,
   "metadata": {},
   "outputs": [
    {
     "name": "stdout",
     "output_type": "stream",
     "text": [
      "20984\n",
      "2\n",
      "11\n",
      "88\n",
      "352\n"
     ]
    }
   ],
   "source": [
    "#실패\n",
    "s = input()\n",
    "res = 0\n",
    "for i in range(1, len(s)):\n",
    "    if s[i] == \"0\":\n",
    "        res += int(s[i-1])\n",
    "    elif s[i-1] == \"0\":\n",
    "        res += int(s[i])\n",
    "    else:\n",
    "        res *= int(s[i])\n",
    "    print(res)\n",
    "        \n",
    "        \n",
    "         \n",
    "            "
   ]
  },
  {
   "cell_type": "code",
   "execution_count": null,
   "metadata": {},
   "outputs": [],
   "source": [
    "#윤혜주\n",
    "\n",
    "num = input()\n",
    "result = 1  #따로 변수(cnt)를 만들어서 덧셈이 연산될 때만 +1을 적용하고 나중에 빼는 방식\n",
    "\n",
    "for i in num:\n",
    "    \n",
    "    int(i)\n",
    "    \n",
    "    if i == 0:\n",
    "\n",
    "        result += i\n",
    "    else:\n",
    "        result *= i\n",
    "\n",
    "print(result)"
   ]
  },
  {
   "cell_type": "code",
   "execution_count": 98,
   "metadata": {},
   "outputs": [
    {
     "name": "stdout",
     "output_type": "stream",
     "text": [
      "0123456\n",
      "2\n",
      "4\n",
      "12\n",
      "48\n",
      "240\n",
      "1440\n",
      "1440\n"
     ]
    }
   ],
   "source": [
    "# 012345 실패\n",
    "s = input()\n",
    "res = int(s[0])    \n",
    "for i in range(1, len(s)):\n",
    "    if res == 0:\n",
    "        res += 1\n",
    "    if s[i] == \"0\":\n",
    "        pass\n",
    "    elif s[i] == \"1\":\n",
    "        res += 1\n",
    "    else:\n",
    "        res *= int(s[i])\n",
    "    print(res)\n",
    "print(res)\n",
    "        \n"
   ]
  },
  {
   "cell_type": "markdown",
   "metadata": {},
   "source": [
    "## 문자열 뒤집기\n",
    "- 0과 1로만 이루어진 문자열 S에 대해, 이 문자열에 있는 모든 숫자를 같게 만들려고 한다. 그 목적을 달성하기 위한 최소 행동 횟수를 구하여라.\n",
    "- 가능한 행동: S에서 연속된 하나 이상의 숫자를 잡고 모두 뒤집는 것. (뒤집다 = 1 -> 0, 0 ->1)\n",
    "- eg) S = 0001100 --> 전체를 뒤집는다 1110011 -> 4번5번째뒤집는다. 111111 (모두 같은 숫자)\n",
    "- eg) S = 0001100 --> [4:5] 뒤집는다 -> 한번만에 0000000으로 만들 수 있다.\n",
    "- 1<= S <= 100만"
   ]
  },
  {
   "cell_type": "code",
   "execution_count": 72,
   "metadata": {},
   "outputs": [
    {
     "name": "stdout",
     "output_type": "stream",
     "text": [
      "3\n"
     ]
    }
   ],
   "source": [
    "#박지은: S에서 0과 1의 개수를 비교하여 0이 많으면 1을 뒤집고, 그 반대의 경우에는 0을 뒤집는다. 그리고 하나씩 뒤집는다.\n",
    "\n",
    "s = str(\"110011110101\")#-> 3 #0001100 -> 1 #input()\n",
    "\n",
    "\n",
    "#청크 개수가 작은 것을 뒤집는게 빠르다.\n",
    "chunck = []\n",
    "inx = 0\n",
    "zero_cnt = 0\n",
    "one_cnt = 0\n",
    "\n",
    "for i in range(len(s)):\n",
    "    if i == len(s)-1:\n",
    "        break\n",
    "    elif s[i] != s[i+1]:\n",
    "        temp = s[inx : i+1]\n",
    "        chunck.append(temp)\n",
    "        inx = i+1\n",
    "chunck.append(s[inx:])\n",
    "\n",
    "for j in chunck:\n",
    "    if j[0] == \"0\":\n",
    "        zero_cnt += 1\n",
    "    else:\n",
    "        one_cnt += 1      \n",
    "\n",
    "if zero_cnt >= one_cnt:\n",
    "    print(one_cnt)\n",
    "else:\n",
    "    print(zero_cnt)\n",
    "    \n",
    "\n"
   ]
  },
  {
   "cell_type": "code",
   "execution_count": null,
   "metadata": {},
   "outputs": [],
   "source": [
    "#류미소\n",
    "# 3) 문자열 뒤집기\n",
    "\n",
    "data = input()\n",
    "result0 = 0 #0으로 만들어 주는 경우\n",
    "result1 = 0 #1로 만들어 주는 경우\n",
    "\n",
    "if data[0]==\"0\":\n",
    "    result0 = 1\n",
    "else:\n",
    "    result1 = 1\n",
    "\n",
    "for i in range(1,len(data)):\n",
    "    if data[i] != data[i-1]:\n",
    "        if data[i] == \"0\":\n",
    "            result0 += 1\n",
    "        else:\n",
    "            result1 += 1\n",
    "\n",
    "if result0 >= result1:\n",
    "    print(result1)\n",
    "else:\n",
    "    print(result0)"
   ]
  },
  {
   "cell_type": "code",
   "execution_count": 74,
   "metadata": {},
   "outputs": [
    {
     "name": "stdout",
     "output_type": "stream",
     "text": [
      "['11', '1111', '1', '1']\n",
      "['00', '0', '0']\n",
      "3\n"
     ]
    }
   ],
   "source": [
    "#이전에 푼 것\n",
    "#n = input()\n",
    "n = str(\"110011110101\")#-> 3 #0001100 -> \n",
    "\n",
    "cnt_box = []\n",
    "\n",
    "count_1 = n.split(\"0\")\n",
    "count_1 = [v for v in count_1 if v]\n",
    "count_0 = n.split(\"1\")\n",
    "count_0 = [v for v in count_0 if v]\n",
    "print(count_1)\n",
    "print(count_0)\n",
    "\n",
    "cnt_box.append(len(count_1))\n",
    "cnt_box.append(len(count_0))\n",
    "#print(cnt_box)\n",
    "print(min(cnt_box))\n",
    "#print(min(len(count_1), len(count_0)))"
   ]
  },
  {
   "cell_type": "code",
   "execution_count": null,
   "metadata": {},
   "outputs": [],
   "source": [
    "#답안 예시: 전체 리스트의 원소를 앞에서부터 하나씩 확인\n",
    "data = input()\n",
    "count0 = 0 #전부 0으로 만드는 경우\n",
    "count1 = 0 #전부 1로 만드는 경우\n",
    "\n",
    "#첫 번째 원소에 대해서 처리\n",
    "if data[0] == \"1\": #첫번째 원소가 0이면 일단 전부1로 만드는 경우가 +1\n",
    "    count0 += 1\n",
    "else:\n",
    "    count1 += 1\n",
    "    \n",
    "#두 번째 원소부터 모든 원소를 확인하며\n",
    "for i in range(len(data) - 1): #두 번째 원소부터인데 왜 1부터 시작안하지\n",
    "    if data[i] != data[i+1]: #0인덱스와 1인덱스를 비교\n",
    "        #다음 수에서 1로 바뀌는 경우\n",
    "        if data[i+1] == \"1\": #0에서 1로 바뀌면 전부0으로 만드는 경우를 +1\n",
    "            count0 += 1\n",
    "        #다음 수에서 0으로 바뀌는 경우\n",
    "        else: \n",
    "            count1 += 1 #1에서 0으로 바뀌면 전부0으로 만드는 경우를 +1\n",
    "print(min(count0, count1))"
   ]
  },
  {
   "cell_type": "markdown",
   "metadata": {},
   "source": [
    "## 만들 수 없는 금액\n",
    "- 점원이 N개의 동전을 이용하여 만들 수 없는 양의 정수 금액 중 최솟값을 구하는 프로그램\n",
    "- eg) N = 5(3, 2, 1, 1, 9원)일때, 만들 수 없는 가장 작은 양의 정수 금액은 8원이다.\n",
    "- eg) N = 3(3, 5, 7원)일때, 만들 수 없는 가장 작은 양의 정수 금액은 1원이다.\n",
    "- 1<=N<=1000, 각 화폐 단위는 1,000,000이하의 자연수\n"
   ]
  },
  {
   "cell_type": "code",
   "execution_count": null,
   "metadata": {},
   "outputs": [],
   "source": [
    "#류미소\n",
    "# 4) 만들 수 없는 금액\n",
    "\n",
    "n = int(input())\n",
    "coins = list(map(int,input().split()))\n",
    "sorted_coins = sorted(coins)\n",
    "\n",
    "total = 1\n",
    "for x in sorted_coins:\n",
    "    if total < x:\n",
    "        break\n",
    "    total += x\n",
    "\n",
    "print(total)"
   ]
  },
  {
   "cell_type": "code",
   "execution_count": 30,
   "metadata": {},
   "outputs": [
    {
     "name": "stdout",
     "output_type": "stream",
     "text": [
      "i:  3\n",
      "j:  2\n",
      "5\n",
      "[False, False, False, True, False, True, False, False, False, False, False, False, False, False, False, False, False]\n",
      "i:  3\n",
      "j:  1\n",
      "4\n",
      "[False, False, False, True, True, True, False, False, False, False, False, False, False, False, False, False, False]\n",
      "i:  3\n",
      "j:  1\n",
      "4\n",
      "[False, False, False, True, True, True, False, False, False, False, False, False, False, False, False, False, False]\n",
      "i:  3\n",
      "j:  9\n",
      "12\n",
      "[False, False, False, True, True, True, False, False, False, False, False, False, True, False, False, False, False]\n",
      "i:  2\n",
      "j:  1\n",
      "3\n",
      "[False, False, True, True, True, True, False, False, False, False, False, False, True, False, False, False, False]\n",
      "i:  2\n",
      "j:  1\n",
      "3\n",
      "[False, False, True, True, True, True, False, False, False, False, False, False, True, False, False, False, False]\n",
      "i:  2\n",
      "j:  9\n",
      "11\n",
      "[False, False, True, True, True, True, False, False, False, False, False, True, True, False, False, False, False]\n",
      "i:  1\n",
      "j:  1\n",
      "2\n",
      "[False, True, True, True, True, True, False, False, False, False, False, True, True, False, False, False, False]\n",
      "i:  1\n",
      "j:  9\n",
      "10\n",
      "[False, True, True, True, True, True, False, False, False, False, True, True, True, False, False, False, False]\n",
      "i:  1\n",
      "j:  9\n",
      "10\n",
      "[False, True, True, True, True, True, False, False, False, False, True, True, True, False, False, False, False]\n"
     ]
    }
   ],
   "source": [
    "#박지은 : 빈 리스트에 가능한 조합을 True로 채워넣기.. 이것도 어렵다\n",
    "n = 5\n",
    "money = [3,2,1,1,9]\n",
    "\n",
    "box = [ False for x in range(sum(money)+1)] #가능한 숫자 = 인덱스 번호\n",
    "\n",
    "\n",
    "for i in range(len(money)):\n",
    "    box[money[i]] = True\n",
    "    for j in range(i+1, len(money)):\n",
    "        box[money[i]+money[j]] = True\n",
    "        print(\"i: \", money[i])\n",
    "        print(\"j: \", money[j])\n",
    "        print(money[i]+money[j])\n",
    "        print(box)\n",
    "        if box[x] == False and box[x-1] == True and box[x+1] == True:\n",
    "            print(\"x: \", x)\n",
    "            break\n",
    "\n",
    "#한계: 1부터 코인을 다 더해서 나오는 숫자 안에서 만들 수 없는 금액이 없을 수 있다. "
   ]
  },
  {
   "cell_type": "code",
   "execution_count": 8,
   "metadata": {},
   "outputs": [
    {
     "name": "stdout",
     "output_type": "stream",
     "text": [
      "[1, 2, 3, 4, 5, 6, 7, 8, 9, 10, 11, 12, 13, 14, 15, 16]\n"
     ]
    },
    {
     "ename": "KeyboardInterrupt",
     "evalue": "",
     "output_type": "error",
     "traceback": [
      "\u001b[1;31m---------------------------------------------------------------------------\u001b[0m",
      "\u001b[1;31mKeyboardInterrupt\u001b[0m                         Traceback (most recent call last)",
      "\u001b[1;32m<ipython-input-8-d0ddaadc65c9>\u001b[0m in \u001b[0;36m<module>\u001b[1;34m\u001b[0m\n\u001b[0;32m     24\u001b[0m     \u001b[1;32mif\u001b[0m \u001b[0mx\u001b[0m \u001b[1;32min\u001b[0m \u001b[0mmoney\u001b[0m\u001b[1;33m:\u001b[0m\u001b[1;33m\u001b[0m\u001b[1;33m\u001b[0m\u001b[0m\n\u001b[0;32m     25\u001b[0m         \u001b[1;32mpass\u001b[0m\u001b[1;33m\u001b[0m\u001b[1;33m\u001b[0m\u001b[0m\n\u001b[1;32m---> 26\u001b[1;33m     \u001b[1;32melif\u001b[0m \u001b[0mdeotsem\u001b[0m\u001b[1;33m(\u001b[0m\u001b[0mx\u001b[0m\u001b[1;33m,\u001b[0m\u001b[0my\u001b[0m\u001b[1;33m)\u001b[0m \u001b[1;33m==\u001b[0m \u001b[1;32mTrue\u001b[0m\u001b[1;33m:\u001b[0m\u001b[1;33m\u001b[0m\u001b[1;33m\u001b[0m\u001b[0m\n\u001b[0m\u001b[0;32m     27\u001b[0m         \u001b[1;32mpass\u001b[0m\u001b[1;33m\u001b[0m\u001b[1;33m\u001b[0m\u001b[0m\n\u001b[0;32m     28\u001b[0m     \u001b[1;32melse\u001b[0m\u001b[1;33m:\u001b[0m\u001b[1;33m\u001b[0m\u001b[1;33m\u001b[0m\u001b[0m\n",
      "\u001b[1;32m<ipython-input-8-d0ddaadc65c9>\u001b[0m in \u001b[0;36mdeotsem\u001b[1;34m(x, y)\u001b[0m\n\u001b[0;32m     12\u001b[0m     \u001b[1;32mwhile\u001b[0m \u001b[0my\u001b[0m\u001b[1;33m<=\u001b[0m\u001b[0mx\u001b[0m\u001b[1;33m:\u001b[0m\u001b[1;33m\u001b[0m\u001b[1;33m\u001b[0m\u001b[0m\n\u001b[0;32m     13\u001b[0m         \u001b[1;32mif\u001b[0m \u001b[0mx\u001b[0m\u001b[1;33m-\u001b[0m\u001b[0my\u001b[0m \u001b[1;32min\u001b[0m \u001b[0mmoney\u001b[0m \u001b[1;32mand\u001b[0m \u001b[0mx\u001b[0m\u001b[1;33m-\u001b[0m\u001b[1;33m(\u001b[0m\u001b[0mx\u001b[0m\u001b[1;33m-\u001b[0m\u001b[0my\u001b[0m\u001b[1;33m)\u001b[0m \u001b[1;32min\u001b[0m \u001b[0mmoney\u001b[0m\u001b[1;33m:\u001b[0m\u001b[1;33m\u001b[0m\u001b[1;33m\u001b[0m\u001b[0m\n\u001b[1;32m---> 14\u001b[1;33m             \u001b[0mresult\u001b[0m\u001b[1;33m.\u001b[0m\u001b[0mappend\u001b[0m\u001b[1;33m(\u001b[0m\u001b[1;32mTrue\u001b[0m\u001b[1;33m)\u001b[0m\u001b[1;33m\u001b[0m\u001b[1;33m\u001b[0m\u001b[0m\n\u001b[0m\u001b[0;32m     15\u001b[0m         \u001b[1;32melse\u001b[0m\u001b[1;33m:\u001b[0m\u001b[1;33m\u001b[0m\u001b[1;33m\u001b[0m\u001b[0m\n\u001b[0;32m     16\u001b[0m             \u001b[0mresult\u001b[0m\u001b[1;33m.\u001b[0m\u001b[0mappend\u001b[0m\u001b[1;33m(\u001b[0m\u001b[1;32mFalse\u001b[0m\u001b[1;33m)\u001b[0m\u001b[1;33m\u001b[0m\u001b[1;33m\u001b[0m\u001b[0m\n",
      "\u001b[1;31mKeyboardInterrupt\u001b[0m: "
     ]
    }
   ],
   "source": [
    "#지은.. 다이나믹 프로그래밍 사용해보려 했으나 잘 안돌아간다...===> 실패\n",
    "#가능한 숫자들의 리스트를 만들어 놓고, 가능한 숫자를 제거하는 방식\n",
    "n = 5 # int(input())\n",
    "money = [3,2,1,1,9]#list(map(int, input().split()))\n",
    "\n",
    "whole = [x for x in range(min(money), sum(money)+1)]\n",
    "print(whole)\n",
    "y = 1\n",
    "result = []\n",
    "\n",
    "def deotsem(x,y):\n",
    "    while y<=x:\n",
    "        if x-y in money and x-(x-y) in money:\n",
    "            result.append(True)\n",
    "        else:\n",
    "            result.append(False)\n",
    "            deotsem(x, y+1)\n",
    "\n",
    "    return result[-1]\n",
    "                \n",
    "#3개를 더해야 하는 경우는,,?\n",
    "\n",
    "for x in whole:\n",
    "    if x in money:\n",
    "        pass\n",
    "    elif deotsem(x,y) == True:\n",
    "        pass\n",
    "    else:\n",
    "        print(x)\n",
    "        break\n",
    "        "
   ]
  },
  {
   "cell_type": "code",
   "execution_count": 27,
   "metadata": {},
   "outputs": [
    {
     "name": "stdout",
     "output_type": "stream",
     "text": [
      "5\n",
      "3 2 1 1 9\n",
      "8\n"
     ]
    }
   ],
   "source": [
    "#답안 예시\n",
    "# target = 1 -> 가능\n",
    "# target = 1+1 = 2로 업데이트 한다.\n",
    "# target 2를 만족하며, target = 2+2 = 4로 업데이트 한다. 즉, 3까지의 모든 금액을 만들 수 있다는 말이다.\n",
    "# target 2+2 = 4를 만족하는가? 화폐단위 3인 동전이 있으므로 4+3 = 7. 즉 6까지의 모든 금액을 만들 수 있다.\n",
    "# target 7을 만족하는가? 7보다 큰 8 동전이 있으므로, 7을 만들 수 있는 방법은 없다.\n",
    "n = int(input())\n",
    "data = list(map(int, input().split()))\n",
    "data.sort()\n",
    "\n",
    "target = 1\n",
    "for x in data:\n",
    "    # 만들 수 없는 금액을 찾았을 때 반복 종료\n",
    "    if target < x:\n",
    "        break\n",
    "    target += x #화폐 단위가 작은 동전부터 확인하면서 target변수를 업데이트 하는 방식\n",
    "\n",
    "# 만들 수 없는 금액 출력\n",
    "print(target)"
   ]
  },
  {
   "cell_type": "markdown",
   "metadata": {},
   "source": [
    "## 볼링공 고르기\n",
    "- 볼링공 N개에는 각각 무게가 적혀 있다(M:공의 최대 무게). 임의의 두 사람은 서로 무게가 다른 볼링공을 고르려고 한다. 이 때 두 사람이 고를 수 있는 볼링공 번호의 조합의 경우의 수는?(1<=N<=1000, 1<=M<=10, 볼링공의 무게 K는 1<=K<=M)\n",
    "- Key: 한 사람이 볼링공을 선택함에 따라 뒷 사람이 결정할 수 있는 경우의 수는 줄어든다.\n"
   ]
  },
  {
   "cell_type": "code",
   "execution_count": null,
   "metadata": {},
   "outputs": [],
   "source": [
    "#류미소\n",
    "# 5) 볼링공 고르기\n",
    "\n",
    "\n",
    "n,m = map(int,input().split())\n",
    "data = list(map(int,input().split()))\n",
    "\n",
    "weights = [0]*(m+1) # index number = 볼링공 무게, weights[idx_num] = 볼링공 개수\n",
    "\n",
    "for ball in data:\n",
    "    weights[ball] += 1\n",
    "    \n",
    "result = 0\n",
    "times = n\n",
    "for i in range(1, m+1):\n",
    "    times -= weights[i]\n",
    "    result += weights[i]*times\n",
    "print(result)\n"
   ]
  },
  {
   "cell_type": "code",
   "execution_count": 2,
   "metadata": {},
   "outputs": [
    {
     "name": "stdout",
     "output_type": "stream",
     "text": [
      "5 3\n",
      "1 3 2 3 2\n",
      "8\n"
     ]
    }
   ],
   "source": [
    "#지은\n",
    "N, M = map(int, input().split())\n",
    "balls = list(map(int, input().split()))\n",
    "\n",
    "temp = len(balls)-1\n",
    "result = temp * (temp+1) //2 #등차수열-> 가능한 모든 경우의 수\n",
    "\n",
    "for i in range(len(balls)):\n",
    "    for j in balls[i+1:]:\n",
    "        if balls[i] == j:\n",
    "            #print(balls[i], j)\n",
    "            result -= 1 #무게가 같다면 result에서 1씩 차감\n",
    "print(result)"
   ]
  },
  {
   "cell_type": "code",
   "execution_count": 26,
   "metadata": {},
   "outputs": [
    {
     "name": "stdout",
     "output_type": "stream",
     "text": [
      "8 5\n",
      "1 5 4 3 2 4 5 2\n",
      "25\n"
     ]
    }
   ],
   "source": [
    "#답안 예시\n",
    "\"\"\"1. 무게마다 볼링공이 몇 개 있는지 계산한 후, \n",
    "A가 특정 무게의 볼링공을 선택했을 때 B가 볼링공을 선택하는 경우를 차례로 계산하여 문제를 해결\n",
    "\n",
    "2. A: 무게 1 -> B: 4 경우 = 4가지 경우\n",
    "   A: 무게 2 * 2개 -> B: 2 경우 = 4가지 경우\n",
    "\"\"\"\n",
    "n, m = map(int, input().split())\n",
    "data = list(map(int, input().split()))\n",
    "\n",
    "array = [0] * 11 #1부터 10까지의 무게를 담을 수 있는 리스트\n",
    "for x in data:\n",
    "    #각 무게에 해당하는 볼링공의 개수를 카운트\n",
    "    array[x] += 1\n",
    "    \n",
    "result = 0\n",
    "for i in range(1, m +1):\n",
    "    n -= array[i] #무게가 i인 볼링공의 개수(A가 선택할 수 있는 개수) 제외\n",
    "    result += array[i] * n #B가 선택하는 경우의 수와 곱하기\n",
    "    \n",
    "print(result)\n"
   ]
  },
  {
   "cell_type": "markdown",
   "metadata": {},
   "source": [
    "## 무지의 먹방 라이브\n",
    "- https://programmers.co.kr/learn/courses/30/lessons/42891\n",
    "- 먹어야 할 N개의 음식(1<=N<=2000). 각 음식은 1부터 N까지 번호가 붙어 있다.\n",
    "- 1번 음식부터 먹기 시작하고, 회전판(food_times)은 버호가 증가하는 순서대로 음식을 무지 앞으로 가져다 놓는다. 이후 마지막 번호의 음식을 섭취한 후에는 회전판에 의해 다시 1번 음식이 무지 앞으로 온다. \n",
    "- 무지는 1초 동안 섭취한 후 남은 음식은 그대로 두고, 그 다음 음식을 섭취한다.(다음 음식이란 다음으로 섭취해야 할 가장 가까운 번호의 음식을 말한다)\n",
    "- 다만 음식을 무지 앞으로 가져오는 데 걸리는 시간은 없다.\n",
    "- 무지가 먹방을 시작한 후 K초 후에 방송이 중단되었는데, 다시 방송을 이어나갈 때 몇 번 음식부터 섭취해야하는 지 알고자 한다.\n",
    "- food times: 각 음식을 먹는 데 필요한 시간이 음식의 번호 순서대로 들어 있는 배열.\n",
    "- k는 방송이 중단된 시간\n",
    "- 만약 더 섭취해야 할 음식이 없다면 -1을 반환한다.\n",
    "- food_times의 원소는 1이상 1000이하의 자연수, k는 1이상 2,000,000 이하의 자연수\n",
    "\n",
    "- 효율성 테스트"
   ]
  },
  {
   "cell_type": "code",
   "execution_count": 10,
   "metadata": {},
   "outputs": [
    {
     "name": "stdout",
     "output_type": "stream",
     "text": [
      "1\n"
     ]
    }
   ],
   "source": [
    "#지은 ..어렵다\n",
    "\n",
    "def solution(food_times, k):\n",
    "    box = []\n",
    "    for i in range(k):\n",
    "        temp = i % len(food_times)\n",
    "\n",
    "        if food_times[temp] == 0:\n",
    "            temp = (i+1) % len(food_times)\n",
    "        \n",
    "        food_times[temp] -= 1\n",
    "\n",
    "        answer = ((temp+1)%3)+1\n",
    "        box.append(str(answer))\n",
    "        #print(box)\n",
    "    return int(box[-1])\n",
    "\n",
    "a = solution([3,1,2], 5)\n",
    "print(a)"
   ]
  },
  {
   "cell_type": "code",
   "execution_count": null,
   "metadata": {},
   "outputs": [],
   "source": [
    "#답안 예시\n",
    "import heapq\n",
    "\n",
    "def solution(food_times, k):\n",
    "    # 전체 음식을 먹는 시간보다 k가 크거나 같다면 -1\n",
    "    if sum(food_times) <= k:\n",
    "        return -1\n",
    "\n",
    "    # 시간이 작은 음식부터 빼야 하므로 우선순위 큐를 이용\n",
    "    q = []\n",
    "    for i in range(len(food_times)):\n",
    "        # (음식 시간, 음식 번호) 형태로 우선순위 큐에 삽입\n",
    "        heapq.heappush(q, (food_times[i], i + 1))  \n",
    "\n",
    "    sum_value = 0 # 먹기 위해 사용한 시간\n",
    "    previous = 0 # 직전에 다 먹은 음식 시간\n",
    "    length = len(food_times) # 남은 음식의 개수\n",
    "\n",
    "    # sum_value + (현재의 음식 시간 - 이전 음식 시간) * 현재 음식 개수와 k 비교\n",
    "    while sum_value + ((q[0][0] - previous) * length) <= k:\n",
    "        now = heapq.heappop(q)[0]\n",
    "        sum_value += (now - previous) * length\n",
    "        length -= 1 # 다 먹은 음식 제외\n",
    "        previous = now # 이전 음식 시간 재설정\n",
    "\n",
    "    # 남은 음식 중에서 몇 번째 음식인지 확인하여 출력\n",
    "    result = sorted(q, key=lambda x: x[1]) # 음식의 번호 기준으로 정렬\n",
    "    return result[(k - sum_value) % length][1]"
   ]
  }
 ],
 "metadata": {
  "kernelspec": {
   "display_name": "Python 3",
   "language": "python",
   "name": "python3"
  },
  "language_info": {
   "codemirror_mode": {
    "name": "ipython",
    "version": 3
   },
   "file_extension": ".py",
   "mimetype": "text/x-python",
   "name": "python",
   "nbconvert_exporter": "python",
   "pygments_lexer": "ipython3",
   "version": "3.8.5"
  }
 },
 "nbformat": 4,
 "nbformat_minor": 4
}
