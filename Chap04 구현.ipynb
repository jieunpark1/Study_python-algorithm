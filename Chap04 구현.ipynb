{
 "cells": [
  {
   "cell_type": "markdown",
   "metadata": {},
   "source": [
    "# 2주차: 구현 "
   ]
  },
  {
   "cell_type": "markdown",
   "metadata": {},
   "source": [
    "### 구현이란?\n",
    "- 구현: 머릿 속에 있는 알고리즘을 소스코드로 바꾸는 과정\n",
    "\n",
    "### 알고리즘 대회에서 구현 유형의 문제란?\n",
    "- 풀이를 떠올리는 것은 쉽지만 소스코드로 옮기기 어려운 문제를 지칭\n",
    "\n",
    "### 구현유형의 예시\n",
    "- 알고리즘은 간단한데 코드가 지나칠만큼 길어지는 문제\n",
    "- 실수 연산을 다루고, 특정 소수점자리까지 출력해야하는 문제-> round함수 사용하면 쉽게 출력할 수 있다\n",
    "- 문자열을 특정한 기준에 따라서 끊어 처리해야하는 문제-> .split등의 함수 사용\n",
    "- 적절한 라이브러리를 찾아서 사용해야하는 문제-> 모든 순열과 조합을 찾아내는 문제(itertools사용 하면 쉽게 구할 수 있음)\n",
    "\n",
    "### 완전탐색과 시뮬레이션\n",
    "- 완전탐색: 모든 경우의 수를 주저 없이 다 계산하는 해결방법\n",
    "- 시뮬레이션: 문제에서 제시한 알고리즘을 차례대로 직접 수행해야하는 문제유형"
   ]
  },
  {
   "cell_type": "markdown",
   "metadata": {},
   "source": [
    "### 구현 시 주의해야 할 메모리 제약 사항\n",
    "#### 변수의 표현 범위\n",
    "정수형 종류에 따라 구현할 수 있는 정수의 범위가 다르다\n",
    "- int, 4byte, -2,147,483,648 ~ 2,147,483,648\n",
    "- long long, 8byte, -9,223,372,036,854,775,800 ~ 9,223,372,036,854,775,800\n",
    "- BigInterger, 가변적, 제한 없음\n",
    "##### 파이썬은 매우 큰 수의 연산을 기본으로 지원하기 때문에 자료형의 표현 범위에 대해 깊게 이해하고 있지 않아도 괜찮다.\n",
    "\n",
    "#### 파이썬에서의 리스트 크기\n",
    "코딩테스트의 메모리제한을 유의해야한다. 대체로 코딩테스트에서는 128 ~ 512MB로 메모리를 제한하며 많은 데이터를 처리할 경우 이러한 메모리제한을 염두에 두고 코딩해야한다. 그러나 수천만개 이상의 데이터를 다루는 문제는 입출력과 채점환경에 다양한 문제가 발생할 수 있기 때문에 흔치않다.\n",
    "\n",
    "### 채점 환경\n",
    "코딩테스트 환경에서는 아래와 같은 채점 시스템의 시간 제한 및 메모리 제한 정보가 적혀있다.\n",
    "- 시간제한: 1초\n",
    "- 메모리 제한: 512MB<br>\n",
    "파이썬은 C/C++에 비해 속도가 느리며 2020년 파이썬 3.7기준 코드가 1초에 2000만 번의 연산을 수행한다고 가정하고 문제를 풀면 시간 제한에 안정적이다. \n",
    "\n",
    "### 구현 문제 접근법\n",
    "보통의 구현 문제는 사소한 입력조건 등을 문제에서 명시해주어 문제의 길이가 긴 편이다.<br>\n",
    "그러나 고차원적인 사고력을 요구하는 문제는 나오지 않는 편이라 문법에 익숙하다면 오히려 쉽게 풀 수 있다. \n",
    "\n",
    "##### 구현측면에서 본 파이썬, pypy, c/c++<br>\n",
    "- 구현 난이도: 파이썬=pypy<c/c++<br>\n",
    "- 프로그램 실행시간: 파이썬>pypy>c/c++<br>\n",
    "pypy를 사용할 수 있는 환경이라면 사용하는 것이 유리하다"
   ]
  },
  {
   "cell_type": "markdown",
   "metadata": {},
   "source": [
    "### 4-1: 상하좌우 문제\n",
    "계획서가 주어졌을 때 여행가 A가 도착하게 될 좌표를 출력하는 프로그램을 작성하시오.<br>\n",
    "- 여행가A는 N*N크기의 정사각형 공간 위에 서 있다. \n",
    "- 이 공간은 1*1크기의 정사각형으로 나뉘어있다. \n",
    "- 가장 왼쪽 좌표는 (1,1)\n",
    "- L: 왼쪽으로 한 칸 이동(0,-1)\n",
    "- R: 오른쪽으로 한 칸 이동(0,1)\n",
    "- U: 위로 한 칸 이동(-1,0)\n",
    "- D: 아래쪽으로 한 칸 이동(1,0) "
   ]
  },
  {
   "cell_type": "code",
   "execution_count": 2,
   "metadata": {},
   "outputs": [
    {
     "name": "stdout",
     "output_type": "stream",
     "text": [
      "5\n",
      "R R R U D D\n",
      "3 4\n"
     ]
    }
   ],
   "source": [
    "n=int(input())\n",
    "move_list = list(input().split())\n",
    "#현재 위치\n",
    "dx=[0, 0, -1, 1] #왼오위아래\n",
    "dy=[-1, 1, 0, 0]\n",
    "x,y=1,1\n",
    "#print(move_list)\n",
    "\n",
    "for j in move_list:\n",
    "    if j=='L':\n",
    "            x+=dx[0]\n",
    "            y+=dy[0]\n",
    "    elif j=='R':\n",
    "            x+=dx[1]\n",
    "            y+=dy[1]\n",
    "    elif j=='U':\n",
    "            x+=dx[2]\n",
    "            y+=dy[2]\n",
    "    elif j=='D':\n",
    "            x+=dx[3]\n",
    "            y+=dy[3]\n",
    "    #보정\n",
    "    if x<1:\n",
    "        x+=1\n",
    "    elif y<1:\n",
    "        y+=1\n",
    "    elif x>n:\n",
    "        x-=1\n",
    "    elif y>n:\n",
    "        y-=1\n",
    "print(x, y)"
   ]
  },
  {
   "cell_type": "code",
   "execution_count": null,
   "metadata": {},
   "outputs": [],
   "source": [
    "##미소미소\n",
    "#예제4-1 상하좌우\n",
    "n = int(input())\n",
    "direction = input().split()\n",
    "\n",
    "x=1; y=1\n",
    "\n",
    "for dir in direction:\n",
    "    if dir == \"R\" and y<n:\n",
    "        y+=1\n",
    "    elif dir == \"L\" and y>1:\n",
    "        y-=1\n",
    "    elif dir == \"U\" and x>1:\n",
    "        x-=1\n",
    "    elif dir == \"D\" and x<n:\n",
    "        x+=1\n",
    "\n",
    "print(x,y)"
   ]
  },
  {
   "cell_type": "code",
   "execution_count": 3,
   "metadata": {},
   "outputs": [
    {
     "name": "stdout",
     "output_type": "stream",
     "text": [
      "5\n",
      "R R R U D D\n",
      "3 4\n"
     ]
    }
   ],
   "source": [
    "###답지풀이: 시뮬레이션 유형\n",
    "\n",
    "# N 입력받기\n",
    "n = int(input())\n",
    "x, y = 1, 1\n",
    "plans = input().split()\n",
    "\n",
    "# L, R, U, D에 따른 이동 방향\n",
    "dx = [0, 0, -1, 1]\n",
    "dy = [-1, 1, 0, 0]\n",
    "move_types = ['L', 'R', 'U', 'D']\n",
    "\n",
    "# 이동 계획을 하나씩 확인\n",
    "for plan in plans:\n",
    "    # 이동 후 좌표 구하기\n",
    "    for i in range(len(move_types)):\n",
    "        if plan == move_types[i]:\n",
    "            nx = x + dx[i]\n",
    "            ny = y + dy[i]\n",
    "    # 공간을 벗어나는 경우 무시\n",
    "    if nx < 1 or ny < 1 or nx > n or ny > n:\n",
    "        continue\n",
    "    # 이동 수행\n",
    "    x, y = nx, ny\n",
    "\n",
    "print(x, y)"
   ]
  },
  {
   "cell_type": "markdown",
   "metadata": {},
   "source": [
    "### 4-2: 시각"
   ]
  },
  {
   "cell_type": "markdown",
   "metadata": {},
   "source": [
    "정수 N이 입력되면 00시 00분 00초부터 N시 59분 59초까지의 모든 시각 중에서 3이 하나라도 포함되는 모든 경우의 수를 구하는 프로그램을 완성하시오.<br>\n",
    "- 세야하는 수<br>\n",
    "00시 00분 03초<br>\n",
    "00시 13분 30초\n",
    "- 세면 안되는 수<br>\n",
    "00시 02분 52초<br>\n",
    "01시 13분 30초\n",
    "\n",
    "#### 나의 풀이 전략\n",
    "어차피 한시간 59분 59초를 계산하면 그 다음부터는 반복 똑같을 거라는 생각이 든다.<br>\n",
    "단, 3, 13, 23은 모든 경우를 센다<br>\n",
    "0시 59분 59초를 생각해보자<br>\n",
    "감상평: 내가 너무 쉽게 푼 것이었군...(개수를 세는 걸로 접근을 해버렸다)"
   ]
  },
  {
   "cell_type": "code",
   "execution_count": 2,
   "metadata": {},
   "outputs": [
    {
     "name": "stdout",
     "output_type": "stream",
     "text": [
      "5\n",
      "11475\n"
     ]
    }
   ],
   "source": [
    "#내 풀이\n",
    "N=int(input())\n",
    "three=[3,13,23] \n",
    "k=0\n",
    "if N==0:\n",
    "    print(1575)\n",
    "elif N!=0:\n",
    "    for i in range(N+1): #0시를 포함해야하기 때문\n",
    "        if i in three:\n",
    "           k+=3600\n",
    "        else:\n",
    "            k+=1575\n",
    "    print(k)\n",
    "#숫자가 어떻게 도출되는지 변수로 나타내주는게 좋다\n"
   ]
  },
  {
   "cell_type": "code",
   "execution_count": null,
   "metadata": {},
   "outputs": [],
   "source": [
    "#예제 4-1. 상하좌우\n",
    "#지은이 코드\n",
    "a = int(input())\n",
    "b = input().split()\n",
    "\n",
    "x, y = 1, 1\n",
    "x_list = [1]\n",
    "y_list = [1]\n",
    "for alpha in b:\n",
    "    #print(\"1\")\n",
    "    if alpha == \"L\":\n",
    "        y -= 1\n",
    "        y_list.append(y)\n",
    "    elif alpha == \"R\":\n",
    "        y += 1\n",
    "        y_list.append(y)\n",
    "    elif alpha == \"U\":\n",
    "        x -= 1\n",
    "        x_list.append(x)\n",
    "    elif alpha == \"D\":\n",
    "        x += 1\n",
    "        x_list.append(x)\n",
    "    #print(x_list)\n",
    "    #print(y_list)\n",
    "    if x == 0 or  x > a:\n",
    "        x_list.pop()\n",
    "        x = x_list[-1]\n",
    "    elif y == 0 or y > a:\n",
    "        y_list.pop()\n",
    "        y = y_list[-1]\n",
    "print(x, y)"
   ]
  },
  {
   "cell_type": "code",
   "execution_count": null,
   "metadata": {},
   "outputs": [],
   "source": [
    "#미소코드\n",
    "\n",
    "h = int(input())\n",
    "ms = 0\n",
    "\n",
    "for i in range(60):\n",
    "    if i//10 == 3 or i%10 == 3:\n",
    "        print(i)\n",
    "        ms+=1\n",
    "h3=60*60\n",
    "over3 = h*ms*60*2+h3\n",
    "under3 = (h+1)*ms*60*2\n",
    "\n",
    "if h >= 3:\n",
    "    print(over3)\n",
    "else:\n",
    "    print(under3)"
   ]
  },
  {
   "cell_type": "markdown",
   "metadata": {},
   "source": [
    "- 완전탐색으로 접근\n",
    "- 완전탐색: 가능한 모든 경우의 수를 \n",
    "- 삼중 loop"
   ]
  },
  {
   "cell_type": "code",
   "execution_count": 11,
   "metadata": {},
   "outputs": [
    {
     "name": "stdout",
     "output_type": "stream",
     "text": [
      "5\n",
      "11475\n"
     ]
    }
   ],
   "source": [
    "#답지\n",
    "# H를 입력받기\n",
    "h = int(input())\n",
    "\n",
    "count = 0\n",
    "for i in range(h + 1): #시\n",
    "    for j in range(60): #분\n",
    "        for k in range(60): #초\n",
    "            # 매 시각 안에 '3'이 포함되어 있다면 카운트 증가\n",
    "            if '3' in str(i) + str(j) + str(k):\n",
    "                count += 1\n",
    "\n",
    "print(count)\n"
   ]
  },
  {
   "cell_type": "markdown",
   "metadata": {},
   "source": [
    "### 2: 왕실의 나이트\n",
    "행복 왕국의 왕실 정원은 체스판과 같은 8 × 8 좌표 평면이다. 왕실 정원의 특정한 한 칸에 나이트가 서있다.<br>\n",
    "나이트는 매우 충성스러운 신하로서 매일 무술을 연마한다<br>\n",
    "나이트는 말을 타고 있기 때문에 이동을 할 때는 L자 형태로만 이동할 수 있으며 정원 밖으로는 나갈 수 없다<br>\n",
    "나이트는 특정 위치에서 다음과 같은 2가지 경우로 이동할 수 있다<br>\n",
    "\n",
    "- 수평으로 두 칸 이동한 뒤에 수직으로 한 칸 이동하기\n",
    "- 수직으로 두 칸 이동한 뒤에 수평으로 한 칸 이동하기<br>\n",
    "이처럼 좌표 평면 상에서 나이트의 위치가 주어졌을 때 나이트가 이동할 수 있는 경우의 수를 구하여라\n",
    "\n",
    "##### 전략\n",
    "- 상하좌우문제와 유사한 것 같다.\n",
    "- 처음 받은 열의 값을 대응하는 숫자좌표(a1->(1,1))이렇게 바꿔주고, 거기에 가능한 좌표값을 더해서 (1,1) ~ (8,8)사이로 이동이 가능한 경우의 수를 세면 풀 수 있을 것 같다."
   ]
  },
  {
   "cell_type": "code",
   "execution_count": 32,
   "metadata": {},
   "outputs": [
    {
     "name": "stdout",
     "output_type": "stream",
     "text": [
      "a1\n",
      "2\n"
     ]
    }
   ],
   "source": [
    "#상하좌우와 비슷하게 풀어보려고 노력\n",
    "\n",
    "start=input()\n",
    "dx=[-1, 1, -1, 1, -2, -2, 2, 2]\n",
    "dy=[2, 2, -2, -2, -1, 1, -1, 1]\n",
    "x=int(start[1])\n",
    "y=int(ord(start[0])) - int(ord('a')) + 1\n",
    "#print(x,y)\n",
    "\n",
    "move=0\n",
    "for i in range(8):\n",
    "    nx=x+dx[i]\n",
    "    ny=y+dy[i]\n",
    "    # 해당 위치로 이동이 가능하다면 카운트 증가(체스판을 벗어나지 않는다면)\n",
    "    #if 1<=nx<=8 and 1<=ny<=8:\n",
    "    if nx >= 1 and nx <= 8 and ny >= 1 and ny <= 8: \n",
    "        move+= 1\n",
    "print(move)"
   ]
  },
  {
   "cell_type": "code",
   "execution_count": null,
   "metadata": {},
   "outputs": [],
   "source": [
    "#지은이 코드\n",
    "r, c = input()\n",
    "r = ord(r) #a = 97 (문자 -> 숫자 변환: 유니코드 사용 )\n",
    "c = int(c)\n",
    "dx = [2, 2, -2, -2, 1, -1, 1, -1]\n",
    "dy = [-1, 1, -1, 1, 2, 2, -2, -2]\n",
    "\n",
    "cnt = 0\n",
    "for i in range(8):      \n",
    "    nx = c + dx[i]\n",
    "    ny = r + dy[i]\n",
    "    #print(nx, ny)\n",
    "    if nx>0 and ny>96 and nx < 9 and ny < 105:\n",
    "        print(nx, ny)\n",
    "        cnt += 1\n",
    "print(cnt)"
   ]
  },
  {
   "cell_type": "code",
   "execution_count": null,
   "metadata": {},
   "outputs": [],
   "source": [
    "#미소코드\n",
    "xy = input()\n",
    "x=ord(xy[0])-96; y=int(xy[1])\n",
    "\n",
    "if (x<=2 or x-6>0)and (y<=2 or y-6>0):\n",
    "    if x==y==1 or x==y==8:\n",
    "        print(2)\n",
    "    elif x==y==2 or x==y==7:\n",
    "        print(4)\n",
    "    elif x==1 or x==8 or y==1 or y==8:\n",
    "        print(3)\n",
    "    else:\n",
    "        print(6)\n",
    "else:\n",
    "    print(8)"
   ]
  },
  {
   "cell_type": "code",
   "execution_count": 6,
   "metadata": {},
   "outputs": [
    {
     "name": "stdout",
     "output_type": "stream",
     "text": [
      "a1\n",
      "2\n"
     ]
    }
   ],
   "source": [
    "##답지 풀이\n",
    "\n",
    "# 현재 나이트의 위치 입력받기\n",
    "input_data = input()\n",
    "row = int(input_data[1]) #c1->(3,1)\n",
    "column = int(ord(input_data[0])) - int(ord('a')) + 1 #ord('a')는 97임->(1,1)\n",
    "\n",
    "# 나이트가 이동할 수 있는 8가지 방향 정의\n",
    "steps = [(-2, -1), (-1, -2), (1, -2), (2, -1), (2, 1), (1, 2), (-1, 2), (-2, 1)] #8가지 방향벡터\n",
    "\n",
    "# 8가지 방향에 대하여 각 위치로 이동이 가능한지 확인\n",
    "result = 0\n",
    "for step in steps:\n",
    "    # 이동하고자 하는 위치 확인\n",
    "    next_row = row + step[0]\n",
    "    next_column = column + step[1]\n",
    "    # 해당 위치로 이동이 가능하다면 카운트 증가(체스판을 벗어나지 않는다면)\n",
    "    if next_row >= 1 and next_row <= 8 and next_column >= 1 and next_column <= 8:\n",
    "        result += 1\n",
    "\n",
    "print(result)"
   ]
  },
  {
   "cell_type": "markdown",
   "metadata": {},
   "source": [
    "### 3: 개임 개발"
   ]
  },
  {
   "cell_type": "markdown",
   "metadata": {},
   "source": [
    "- 게임 캐릭터가 맵 안에서 움직이는 시스템이 있다.<br>\n",
    "- 캐릭터가 있는 장소는 1 X 1 크기의 정사각형으로 이뤄진 N X M 크기의 직사각형으로, 각각의 칸은 육지 또는 바다이다.\n",
    "- 캐릭터는 동서남북 중 한 곳을 바라본다.\n",
    "- 맵의 각 칸은 (A, B)로 나타낼 수 있고, A는 북쪽으로부터 떨어진 칸의 개수, B는 서쪽으로부터 떨어진 칸의 개수이다.\n",
    "- 캐릭터는 상하좌우로 움직일 수 있고, 바다로 되어 있는 공간에는 갈 수 없다. 움직임을 위한 매뉴얼은 다음과 같다.\n",
    "\n",
    "##### 1. 현재 위치에서 현재 방향을 기준으로 왼쪽 방향부터 차례대로 갈 곳을 정한다.\n",
    "##### 2. 캐릭터의 바로 왼쪽 방향에 아직 가보지 않은 칸이 존재한다면, 왼쪽 방향으로 회전한 다음 왼쪽으로 한 칸을 전진한다. 왼쪽 방향에 가보지 않은 칸이 없다면, 왼쪽 방향으로 회전만 수행하고 1단계로 돌아간다.\n",
    "##### 3. 만약 네 방향 모두 이미 가본 칸이거나 바다로 되어 있는 칸인 경우에는, 바라보는 방향을 유지한 채로 한 칸 뒤로 가고 1단계로 돌아간다. 단, 이때 뒤쪽 방향이 바다인 칸이라 뒤로 갈 수 없는 경우에는 움직임을 멈춘다.\n",
    "\n",
    "- 요구사항: 위 과정을 반복적으로 수행하면서 캐릭터의 움직임에 이상이 있는지 테스트하려고 한다. 매뉴얼에 따라 캐릭터를 이동시킨 뒤에, 캐릭터가 방문한 칸의 수를 출력하는 프로그램을 만드시오.\n",
    "\n",
    "- 방향d의 값\n",
    "- 0: 북쪽\n",
    "- 1: 동쪽\n",
    "- 2: 남쪽\n",
    "- 3: 서쪽\n",
    "\n",
    "- 맵의 외곽은 항상 바다이며 0은 육지, 1은 바다이다."
   ]
  },
  {
   "cell_type": "code",
   "execution_count": null,
   "metadata": {},
   "outputs": [],
   "source": [
    "#답지 코드\n",
    "# N, M을 공백을 기준으로 구분하여 입력받기\n",
    "n, m = map(int, input().split())\n",
    "\n",
    "# 방문한 위치를 저장하기 위한 맵을 생성하여 0으로 초기화\n",
    "d = [[0] * m for _ in range(n)] #현재 위치 맵\n",
    "# 현재 캐릭터의 X 좌표, Y 좌표, 방향을 입력받기\n",
    "x, y, direction = map(int, input().split())\n",
    "d[x][y] = 1 # 현재 좌표 방문 처리\n",
    "\n",
    "# 전체 맵 정보를 입력받기\n",
    "array = []\n",
    "for i in range(n):\n",
    "    array.append(list(map(int, input().split())))\n",
    "\n",
    "# 북, 동, 남, 서 방향 정의\n",
    "dx = [-1, 0, 1, 0]\n",
    "dy = [0, 1, 0, -1]\n",
    "\n",
    "# 왼쪽으로 회전\n",
    "def turn_left():\n",
    "    global direction\n",
    "    direction -= 1\n",
    "    if direction == -1:\n",
    "        direction = 3\n",
    "\n",
    "# 시뮬레이션 시작\n",
    "count = 1\n",
    "turn_time = 0\n",
    "while True:\n",
    "    # 왼쪽으로 회전\n",
    "    turn_left()\n",
    "    nx = x + dx[direction]\n",
    "    ny = y + dy[direction]\n",
    "    # 회전한 이후 정면에 가보지 않은 칸이 존재하는 경우 이동\n",
    "    if d[nx][ny] == 0 and array[nx][ny] == 0:\n",
    "        d[nx][ny] = 1\n",
    "        x = nx\n",
    "        y = ny\n",
    "        count += 1\n",
    "        turn_time = 0\n",
    "        continue\n",
    "    # 회전한 이후 정면에 가보지 않은 칸이 없거나 바다인 경우\n",
    "    else:\n",
    "        turn_time += 1\n",
    "    # 네 방향 모두 갈 수 없는 경우\n",
    "    if turn_time == 4:\n",
    "        nx = x - dx[direction]\n",
    "        ny = y - dy[direction]\n",
    "        # 뒤로 갈 수 있다면 이동하기\n",
    "        if array[nx][ny] == 0:\n",
    "            x = nx\n",
    "            y = ny\n",
    "        # 뒤가 바다로 막혀있는 경우\n",
    "        else:\n",
    "            break\n",
    "        turn_time = 0\n",
    "\n",
    "# 정답 출력\n",
    "print(count)"
   ]
  },
  {
   "cell_type": "markdown",
   "metadata": {},
   "source": [
    "## 알고리즘 유형별 기출문제\n",
    "\n",
    "### 7: 럭키 스트레이트\n",
    "\n",
    "현재 점수 N이 주어지면 럭키스트레이트를 사용할 수 있는 상태인지 아닌지를 알려주는 프로그램을 작성하시오<br>\n",
    "- 럭키스트레이트; 점수 N을 자릿수를 기준으로 반으로 나누어 왼쪽 부분의 각 자리수의 합과 오른쪽 부분의 각 자리수의 합을 더한 값이 동일한경우 "
   ]
  },
  {
   "cell_type": "code",
   "execution_count": 12,
   "metadata": {},
   "outputs": [
    {
     "name": "stdout",
     "output_type": "stream",
     "text": [
      "123402\n",
      "LUCKY\n"
     ]
    }
   ],
   "source": [
    "#민화 풀이\n",
    "n=input()\n",
    "half_len=len(n)//2-1\n",
    "\n",
    "#문자열 반으로 자르기\n",
    "#각각 리스트에 따로 넣어서 더한 뒤에 같은지, 다른지 확인해보면 되겠네\n",
    "left=[]\n",
    "right=[]\n",
    "\n",
    "i=0\n",
    "for j in n:\n",
    "    if i<=half_len:\n",
    "        left.append(j)\n",
    "        i+=1\n",
    "    elif i>half_len:\n",
    "        right.append(j)\n",
    "\n",
    "#각 리스트의 요소를 숫자로 바꾸기\n",
    "left = list(map(int, left))\n",
    "right = list(map(int, right))\n",
    "#print(left)\n",
    "#print(right)\n",
    "\n",
    "#같은가 다른가 비교\n",
    "if sum(left)==sum(right):\n",
    "    print(\"LUCKY\")\n",
    "elif sum(left)!=sum(right):\n",
    "    print(\"READY\")"
   ]
  },
  {
   "cell_type": "code",
   "execution_count": null,
   "metadata": {},
   "outputs": [],
   "source": [
    "##미소코드\n",
    "\n",
    "point=input()\n",
    "half=int(len(point)/2)\n",
    "left=0\n",
    "right=0\n",
    "\n",
    "for i in range(half):\n",
    "    left+=int(point[i])\n",
    "\n",
    "for j in range(len(point),half,-1):\n",
    "    right+=int(point[j-1])\n",
    "\n",
    "if left == right:\n",
    "    print(\"LUCKY\")\n",
    "else:\n",
    "    print(\"READY\")\n",
    "    \n",
    "#윤우코드\n",
    "\n",
    "n = list(input())\n",
    "lucky_left = 0\n",
    "lucky_right = 0\n",
    "\n",
    "for i in range(len(n)//2):\n",
    "  lucky_left += int(n[i])\n",
    "  \n",
    "\n",
    "for j in range(len(n)//2, len(n)):\n",
    "  lucky_right += int(n[j])\n",
    "  \n",
    "\n",
    "if lucky_left == lucky_right:\n",
    "  print('lucky')\n",
    "else:\n",
    "  print('ready')\n",
    "\n",
    "#지은 코드\n",
    "n = input()\n",
    "sum_prev = 0\n",
    "sum_lat = 0\n",
    "for i in range(len(n)):\n",
    "    if i >= len(n)/2:\n",
    "        #print(i)\n",
    "        sum_lat += int(n[i])\n",
    "    else:\n",
    "        sum_prev += int(n[i])\n",
    "\n",
    "if sum_prev == sum_lat:\n",
    "    print(\"LUCKY\")\n",
    "else:\n",
    "    print(\"READY\")"
   ]
  },
  {
   "cell_type": "code",
   "execution_count": 39,
   "metadata": {},
   "outputs": [
    {
     "data": {
      "text/plain": [
       "True"
      ]
     },
     "execution_count": 39,
     "metadata": {},
     "output_type": "execute_result"
    }
   ],
   "source": [
    "#답지\n",
    "\n",
    "n = input()\n",
    "length = len(n) # 점수 값의 총 자릿수\n",
    "summary = 0\n",
    "\n",
    "# 왼쪽 부분의 자릿수의 합 더하기\n",
    "for i in range(length // 2):\n",
    "    summary += int(n[i])\n",
    "\n",
    "# 오른쪽 부분의 자릿수의 합 빼기\n",
    "for i in range(length // 2, length):\n",
    "    summary -= int(n[i])\n",
    "\n",
    "# 왼쪽 부분과 오른쪽 부분의 자릿수 합이 동일한지 검사\n",
    "if summary == 0:\n",
    "    print(\"LUCKY\")\n",
    "else:\n",
    "    print(\"READY\")\n"
   ]
  },
  {
   "cell_type": "markdown",
   "metadata": {},
   "source": [
    "### 9: 문자열 압축\n"
   ]
  },
  {
   "cell_type": "markdown",
   "metadata": {},
   "source": [
    "- 요구사항<br>\n",
    "압축할 문자열 s가 매개변수로 주어질 때, 위에 설명한 방법으로 1개 이상 단위로 문자열을 잘라 압축하여 표현한 문자열 중 가장 짧은 것의 길이를 return 하도록 solution 함수를 완성해라<br>\n",
    "\n",
    "- 예)ababcdcdababcdcd(16개 문자일 때)<br> \n",
    "문자를 1개 단위로 자르면 전혀 압축되지 않지만,<br>\n",
    "2개 단위로 잘라서 압축한다면 2ab2cd2ab2cd로 표현 가능<br> \n",
    "8개 단위로 잘라서 압축한다면 2ababcdcd로 표현할 수 있으며, 이때가 가장 짧게 압축하여 표현할 수 있는 방법.<br>\n",
    "\n",
    "- s의 길이는 1 이상 1,000 이하.\n",
    "- s는 알파벳 소문자로만 이루어져 있다.\n",
    "\n",
    "https://programmers.co.kr/learn/courses/30/lessons/60057"
   ]
  },
  {
   "cell_type": "code",
   "execution_count": 34,
   "metadata": {},
   "outputs": [
    {
     "data": {
      "text/plain": [
       "7"
      ]
     },
     "execution_count": 34,
     "metadata": {},
     "output_type": "execute_result"
    }
   ],
   "source": [
    "def solution(s):\n",
    "    answer = len(s)\n",
    "    # 1개 단위(step)부터 압축 단위를 늘려가며 확인\n",
    "    for step in range(1, len(s) // 2 + 1):\n",
    "        compressed = \"\"\n",
    "        prev = s[0:step] # 앞에서부터 step만큼의 문자열 추출\n",
    "        count = 1\n",
    "        # 단위(step) 크기만큼 증가시키며 이전 문자열과 비교\n",
    "        for j in range(step, len(s), step): #step에서 len(s)까지, step간격으로\n",
    "            # 이전 상태와 동일하다면 압축 횟수(count) 증가\n",
    "            if prev == s[j:j + step]:\n",
    "                count += 1\n",
    "            # 다른 문자열이 나왔다면(더 이상 압축하지 못하는 경우라면)\n",
    "            else:\n",
    "                compressed += str(count) + prev if count >= 2 else prev \n",
    "                prev = s[j:j + step] # 다시 상태 초기화\n",
    "                count = 1\n",
    "\n",
    "        # 남아있는 문자열에 대해서 처리\n",
    "        compressed += str(count) + prev if count >= 2 else prev\n",
    "        # 만들어지는 압축 문자열이 가장 짧은 것이 정답\n",
    "        answer = min(answer, len(compressed))\n",
    "    return answer\n",
    "\n",
    "solution('aabbaccc')\n",
    "\n",
    "'''\n",
    "#aabbaccc을 분할하는 것을 가정\n",
    "len(s)=8\n",
    "for step in range(1, 8//2+1): #먼저 step=1인 경우부터 계산\n",
    "    compressed=''\n",
    "    prev=s[0:1]\n",
    "    count=1\n",
    "    \n",
    "    #step이 1일 때\n",
    "    for j in range(1, 8, 1)\n",
    "        if prev==s[1:1+1]: #aabbaccc의 경우 a==a가 되기 때문에 count 1증가 \n",
    "                            #근데 그 다음(j=2일 때)은 같지 않음 아님 그래서 else로 내려감\n",
    "        count +=1\n",
    "        \n",
    "        else: \n",
    "        compressed+= str(count)+prev 'if count>=2(2a 같이 붙여라) else prev' \n",
    "        #count가 2보다 크다면 compressed에 넣고 그렇지 않다면 prev만 compressed에 넣어라\n",
    "        \n",
    "        prev=s[2:2+1] #prev 갱신\n",
    "        count=1\n",
    "\n",
    "'''"
   ]
  },
  {
   "cell_type": "markdown",
   "metadata": {},
   "source": [
    "### 10: 자물쇠와 열쇠"
   ]
  },
  {
   "cell_type": "markdown",
   "metadata": {},
   "source": [
    "- 요구사항\n",
    "열쇠를 나타내는 2차원 배열 key와 자물쇠를 나타내는 2차원 배열 lock이 매개변수로 주어질 때,<br> \n",
    "열쇠로 자물쇠를 열수 있으면 true를, 열 수 없으면 false를 return 하도록 solution 함수를 완성해주세요.<br>\n",
    "\n",
    "\n",
    "- 제한사항\n",
    "- key는 M x M(3 ≤ M ≤ 20, M은 자연수)크기 2차원 배열입니다.\n",
    "- lock은 N x N(3 ≤ N ≤ 20, N은 자연수)크기 2차원 배열입니다.\n",
    "- M은 항상 N 이하입니다.(key가 lock이하이다)\n",
    "- key와 lock의 원소는 0 또는 1로 이루어져 있습니다.\n",
    "- 0은 홈 부분, 1은 돌기 부분을 나타냅니다.\n",
    "\n",
    "https://programmers.co.kr/learn/courses/30/lessons/60059"
   ]
  },
  {
   "cell_type": "code",
   "execution_count": 37,
   "metadata": {},
   "outputs": [
    {
     "data": {
      "text/plain": [
       "True"
      ]
     },
     "execution_count": 37,
     "metadata": {},
     "output_type": "execute_result"
    }
   ],
   "source": [
    "# 2차원 리스트 90도 회전하기\n",
    "def rotate_a_matrix_by_90_degree(a): #input이 key\n",
    "    n = len(a) # 행 길이 계산\n",
    "    m = len(a[0]) # 열 길이 계산\n",
    "    result = [[0] * n for _ in range(m)] # 결과 리스트 # result=[[0]*3 for _ in range(3)]\n",
    "    for i in range(n): #3\n",
    "        for j in range(m): #3\n",
    "            result[j][n - i - 1] = a[i][j] \n",
    "    return result\n",
    "\n",
    "# 자물쇠의 중간 부분이 모두 1인지 확인\n",
    "def check(new_lock):\n",
    "    lock_length = len(new_lock) // 3\n",
    "    for i in range(lock_length, lock_length * 2): #3, 6->가운데 자리에 대해서\n",
    "        for j in range(lock_length, lock_length * 2): #행렬이니까(0행부터 시작) 3행 3열, 3행 4열, 3행 5열~ 이런 순서로\n",
    "            if new_lock[i][j] != 1:\n",
    "                return False\n",
    "    return True\n",
    "\n",
    "def solution(key, lock):\n",
    "    n = len(lock)\n",
    "    m = len(key)\n",
    "    # 자물쇠의 크기를 기존의 3배로 변환\n",
    "    new_lock = [[0] * (n * 3) for _ in range(n * 3)]\n",
    "    # 새로운 자물쇠의 중앙 부분에 기존의 자물쇠 넣기\n",
    "    for i in range(n):\n",
    "        for j in range(n):\n",
    "            new_lock[i + n][j + n] = lock[i][j]\n",
    "\n",
    "    # 4가지 방향에 대해서 확인\n",
    "    for rotation in range(4):\n",
    "        key = rotate_a_matrix_by_90_degree(key) # 열쇠([0,0,0],[1,0,0],[0,1,1]]) 회전 \n",
    "        for x in range(n * 2): #3*2\n",
    "            for y in range(n * 2): #3*2\n",
    "                \n",
    "                # 자물쇠에 열쇠를 끼워 넣기\n",
    "                for i in range(m): #3(0~2)\n",
    "                    for j in range(m): #3(0~2)\n",
    "                        new_lock[x + i][y + j] += key[i][j]\n",
    "                        \n",
    "                # 새로운 자물쇠에 열쇠가 정확히 들어 맞는지 검사\n",
    "                if check(new_lock) == True: #모든 자리가 1인 경우\n",
    "                    return True\n",
    "                # 자물쇠에서 열쇠를 다시 빼기\n",
    "                for i in range(m):\n",
    "                    for j in range(m):\n",
    "                        new_lock[x + i][y + j] -= key[i][j]\n",
    "    return False\n",
    "\n",
    "solution([[0,0,0],[1,0,0],[0,1,1]], [[1,1,1],[1,1,0],[1,0,1]])\n",
    "\n",
    "\n",
    "'''\n",
    "자물쇠 이렇게 변환\n",
    "\n",
    "[[0, 0, 0, 0, 0, 0, 0, 0, 0], \n",
    " [0, 0, 0, 0, 0, 0, 0, 0, 0], \n",
    " [0, 0, 0, 0, 0, 0, 0, 0, 0], \n",
    " [0, 0, 0, 1, 1, 1, 0, 0, 0], \n",
    " [0, 0, 0, 1, 1, 0, 0, 0, 0], \n",
    " [0, 0, 0, 1, 0, 1, 0, 0, 0], \n",
    " [0, 0, 0, 0, 0, 0, 0, 0, 0], \n",
    " [0, 0, 0, 0, 0, 0, 0, 0, 0], \n",
    " [0, 0, 0, 0, 0, 0, 0, 0, 0]]\n",
    "\n",
    "rotate 된 열쇠\n",
    "\n",
    "[(0, 1, 0), (1, 0, 0), (1, 0, 0)]\n",
    "[(1, 1, 0), (0, 0, 1), (0, 0, 0)]\n",
    "[(0, 0, 1), (0, 0, 1), (0, 1, 0)]\n",
    "[(0, 0, 0), (1, 0, 0), (0, 1, 1)]\n",
    "\n",
    "'''"
   ]
  }
 ],
 "metadata": {
  "kernelspec": {
   "display_name": "Python 3",
   "language": "python",
   "name": "python3"
  },
  "language_info": {
   "codemirror_mode": {
    "name": "ipython",
    "version": 3
   },
   "file_extension": ".py",
   "mimetype": "text/x-python",
   "name": "python",
   "nbconvert_exporter": "python",
   "pygments_lexer": "ipython3",
   "version": "3.7.1"
  }
 },
 "nbformat": 4,
 "nbformat_minor": 4
}
